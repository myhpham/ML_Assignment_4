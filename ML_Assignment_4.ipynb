{
  "nbformat": 4,
  "nbformat_minor": 0,
  "metadata": {
    "colab": {
      "name": "ML_Assignment 4.ipynb",
      "provenance": [],
      "collapsed_sections": [],
      "include_colab_link": true
    },
    "kernelspec": {
      "name": "python3",
      "display_name": "Python 3"
    },
    "accelerator": "GPU"
  },
  "cells": [
    {
      "cell_type": "markdown",
      "metadata": {
        "id": "view-in-github",
        "colab_type": "text"
      },
      "source": [
        "<a href=\"https://colab.research.google.com/github/myhpham/ML_Assignment_4/blob/main/ML_Assignment_4.ipynb\" target=\"_parent\"><img src=\"https://colab.research.google.com/assets/colab-badge.svg\" alt=\"Open In Colab\"/></a>"
      ]
    },
    {
      "cell_type": "markdown",
      "metadata": {
        "id": "IDo6Mz1MoJxR"
      },
      "source": [
        "# Assignment 4\n",
        "\n",
        "Turn in the assignment via Canvas.\n",
        "\n",
        "To write legible answers you will need to be familiar with both [Markdown](https://github.com/adam-p/markdown-here/wiki/Markdown-Cheatsheet) and [Latex](https://www.latex-tutorial.com/tutorials/amsmath/)\n",
        "\n",
        "Before you turn this problem in, make sure everything runs as expected. First, restart the kernel (in the menubar, select Runtime→→Restart runtime) and then run all cells (in the menubar, select Runtime→→Run All).\n",
        "\n",
        "Make sure you fill in any place that says \"YOUR CODE HERE\" or \"YOUR ANSWER HERE\", as well as your name below:"
      ]
    },
    {
      "cell_type": "code",
      "metadata": {
        "id": "nOfazHDtoJxS"
      },
      "source": [
        "NAME = \"My Pham\"\n",
        "STUDENT_ID = \"1463837\""
      ],
      "execution_count": null,
      "outputs": []
    },
    {
      "cell_type": "code",
      "metadata": {
        "id": "8v9z0Mpb-BQP",
        "colab": {
          "base_uri": "https://localhost:8080/",
          "height": 51
        },
        "outputId": "3ab64560-3657-492d-ec2c-7d8a1460dcca"
      },
      "source": [
        "# TensorFlow and tf.keras\n",
        "import tensorflow as tf\n",
        "from tensorflow import keras\n",
        "\n",
        "# Helper libraries\n",
        "import numpy as np\n",
        "import matplotlib.pyplot as plt\n",
        "\n",
        "import numpy as np\n",
        "import seaborn as sns\n",
        "import pandas as pd\n"
      ],
      "execution_count": null,
      "outputs": [
        {
          "output_type": "stream",
          "text": [
            "/usr/local/lib/python3.6/dist-packages/statsmodels/tools/_testing.py:19: FutureWarning: pandas.util.testing is deprecated. Use the functions in the public API at pandas.testing instead.\n",
            "  import pandas.util.testing as tm\n"
          ],
          "name": "stderr"
        }
      ]
    },
    {
      "cell_type": "markdown",
      "metadata": {
        "id": "450ttnh1rTHv"
      },
      "source": [
        "## Data Exploration and Preprocessing"
      ]
    },
    {
      "cell_type": "markdown",
      "metadata": {
        "id": "7Af39xEm-BQV"
      },
      "source": [
        "### Load the Fashion-MNIST dataset\n",
        "Keras has lots of datsets that you can just load right into python numpy arrays, see: https://keras.io/datasets/\n",
        "\n",
        "We will be using the Fashion-MNIST dataset, which is a cool little dataset with gray scale $28\\times28$ images of articles of clothing.\n",
        "Keep in mind that they will be downloaded from the internet, so it may take a while."
      ]
    },
    {
      "cell_type": "code",
      "metadata": {
        "id": "riBPz-sW-BQW",
        "colab": {
          "base_uri": "https://localhost:8080/",
          "height": 153
        },
        "outputId": "45387853-5e11-4192-b571-2852fa08b284"
      },
      "source": [
        "fashion_mnist = keras.datasets.fashion_mnist\n",
        "# splitting training and test data and corresponding labels \n",
        "(train_images, train_labels), (test_images, test_labels) = fashion_mnist.load_data()"
      ],
      "execution_count": null,
      "outputs": [
        {
          "output_type": "stream",
          "text": [
            "Downloading data from https://storage.googleapis.com/tensorflow/tf-keras-datasets/train-labels-idx1-ubyte.gz\n",
            "32768/29515 [=================================] - 0s 0us/step\n",
            "Downloading data from https://storage.googleapis.com/tensorflow/tf-keras-datasets/train-images-idx3-ubyte.gz\n",
            "26427392/26421880 [==============================] - 1s 0us/step\n",
            "Downloading data from https://storage.googleapis.com/tensorflow/tf-keras-datasets/t10k-labels-idx1-ubyte.gz\n",
            "8192/5148 [===============================================] - 0s 0us/step\n",
            "Downloading data from https://storage.googleapis.com/tensorflow/tf-keras-datasets/t10k-images-idx3-ubyte.gz\n",
            "4423680/4422102 [==============================] - 0s 0us/step\n"
          ],
          "name": "stdout"
        }
      ]
    },
    {
      "cell_type": "code",
      "metadata": {
        "id": "yvKkk6RF-BQb"
      },
      "source": [
        "class_names = ['T-shirt/top', 'Trouser', 'Pullover', 'Dress', 'Coat',\n",
        "               'Sandal', 'Shirt', 'Sneaker', 'Bag', 'Ankle boot']\n",
        "class_dict = {i:class_name for i,class_name in enumerate(class_names)}"
      ],
      "execution_count": null,
      "outputs": []
    },
    {
      "cell_type": "code",
      "metadata": {
        "id": "dUMy4xjA-BQe"
      },
      "source": [
        "def show_image(index):\n",
        "    plt.figure()\n",
        "    # cmap=plt.cm.binary allows us to show the picture in grayscale\n",
        "    plt.imshow(train_images[index], cmap=plt.cm.binary)\n",
        "    plt.title(class_names[train_labels[index]])\n",
        "    plt.colorbar() # adds a bar to the side with values\n",
        "    plt.show()"
      ],
      "execution_count": null,
      "outputs": []
    },
    {
      "cell_type": "code",
      "metadata": {
        "id": "vLEyV9VJ-BQm",
        "colab": {
          "base_uri": "https://localhost:8080/",
          "height": 281
        },
        "outputId": "10bd5d12-0585-44ad-dac5-6b137505e6b2"
      },
      "source": [
        "show_image(0)"
      ],
      "execution_count": null,
      "outputs": [
        {
          "output_type": "display_data",
          "data": {
            "image/png": "[encoded data removed]",
            "text/plain": [
              "<Figure size 432x288 with 2 Axes>"
            ]
          },
          "metadata": {
            "tags": [],
            "needs_background": "light"
          }
        }
      ]
    },
    {
      "cell_type": "code",
      "metadata": {
        "id": "TlveGtQmiisg",
        "colab": {
          "base_uri": "https://localhost:8080/",
          "height": 281
        },
        "outputId": "f427a4ad-3b39-4569-866b-10d68d78ecfa"
      },
      "source": [
        "show_image(1)"
      ],
      "execution_count": null,
      "outputs": [
        {
          "output_type": "display_data",
          "data": {
            "image/png": "[encoded data removed]",
            "text/plain": [
              "<Figure size 432x288 with 2 Axes>"
            ]
          },
          "metadata": {
            "tags": [],
            "needs_background": "light"
          }
        }
      ]
    },
    {
      "cell_type": "code",
      "metadata": {
        "id": "dyHUnJ8KinYi",
        "colab": {
          "base_uri": "https://localhost:8080/",
          "height": 281
        },
        "outputId": "7942c224-9b0a-4877-c910-f5c2d5e111f0"
      },
      "source": [
        "show_image(2)"
      ],
      "execution_count": null,
      "outputs": [
        {
          "output_type": "display_data",
          "data": {
            "image/png": "[encoded data removed]",
            "text/plain": [
              "<Figure size 432x288 with 2 Axes>"
            ]
          },
          "metadata": {
            "tags": [],
            "needs_background": "light"
          }
        }
      ]
    },
    {
      "cell_type": "markdown",
      "metadata": {
        "id": "a9JIPCjflnFV"
      },
      "source": [
        "## Question 1: Data Preprocessing\n",
        "As you can see above, the images are valued from $[0,255]$. This is the normal range for images. Recall from the previous lectures and excercises that we need to normalize our data.\n",
        "\n",
        "In order to normalize our data to $[0,1]$ we use the equation:\n",
        "\n",
        "$$x_{norm}=\\frac{x-x_{min}}{x_{max}-x_{min}}$$\n",
        "\n",
        "In our case we can assume that $x_{min}=0$ and $x_{max}=255$, this is a safe assumption since we are working with image data.\n",
        "\n",
        "This means that for image data, if we want to normlize to $[0,1]$ the equation simplifies to:\n",
        "\n",
        "$$img_{norm}=\\frac{img}{255}$$\n",
        "\n",
        "Anytime you work with image data in any kind of model you will be normalizing with this equation. Unless the range you want to normalize is different. Sometimes you want to normalize between $[-1,1]$, for that you would use a slightly different equation.\n",
        "\n",
        "\n"
      ]
    },
    {
      "cell_type": "markdown",
      "metadata": {
        "id": "eNlUuEcBfqzH"
      },
      "source": [
        "### Question 1.1) Normalizing the data\n",
        "Normalize BOTH the training and testing images using the above equation."
      ]
    },
    {
      "cell_type": "code",
      "metadata": {
        "id": "rfN4Lkys-BQr"
      },
      "source": [
        "### YOUR CODE HERE ###\n",
        "train_images = train_images / 255.\n",
        "test_images = test_images / 255."
      ],
      "execution_count": null,
      "outputs": []
    },
    {
      "cell_type": "markdown",
      "metadata": {
        "id": "-QumntnM-BQv"
      },
      "source": [
        "If we show the image again, you will see the values are all scaled correctly."
      ]
    },
    {
      "cell_type": "code",
      "metadata": {
        "id": "o15roqPA-BQw",
        "colab": {
          "base_uri": "https://localhost:8080/",
          "height": 281
        },
        "outputId": "b01294c0-21f4-4498-d9c0-4789ca5a1da9"
      },
      "source": [
        "show_image(0)"
      ],
      "execution_count": null,
      "outputs": [
        {
          "output_type": "display_data",
          "data": {
            "image/png": "[encoded data removed]",
            "text/plain": [
              "<Figure size 432x288 with 2 Axes>"
            ]
          },
          "metadata": {
            "tags": [],
            "needs_background": "light"
          }
        }
      ]
    },
    {
      "cell_type": "code",
      "metadata": {
        "id": "bsg3Mbzb-BQ2",
        "colab": {
          "base_uri": "https://localhost:8080/",
          "height": 589
        },
        "outputId": "6e6b8f67-9ea8-4162-f816-47d9b183b855"
      },
      "source": [
        "# Lets sample our data to see what kind of images are stored.\n",
        "# see documentation for subplot here:\n",
        "# https://matplotlib.org/3.2.1/api/_as_gen/matplotlib.pyplot.subplot.html\n",
        "plt.figure(figsize=(10,10))\n",
        "for i in range(25):\n",
        "    plt.subplot(5,5,i+1)\n",
        "    plt.xticks([])\n",
        "    plt.yticks([])\n",
        "    plt.grid(False)\n",
        "    plt.imshow(train_images[i], cmap=plt.cm.binary)\n",
        "    plt.xlabel(class_names[train_labels[i]])\n",
        "plt.show()"
      ],
      "execution_count": null,
      "outputs": [
        {
          "output_type": "display_data",
          "data": {
            "image/png": "[encoded data removed]",
            "text/plain": [
              "<Figure size 720x720 with 25 Axes>"
            ]
          },
          "metadata": {
            "tags": []
          }
        }
      ]
    },
    {
      "cell_type": "markdown",
      "metadata": {
        "id": "ZAwvboqPf-B_"
      },
      "source": [
        "### Question 1.2) Data Transformation\n",
        "Since our data is composed of grayscale images (one channel) with a resolution of $28\\times28$, we can think of this as the images existing in a $28\\times28=784$ dimensional space. This means that every single image in our dataset can be represented by a vector of length $784$.\n",
        "\n",
        "Please reshape BOTH the training and testing images to be $784D$. \n",
        "\n",
        "Hint: look into numpy.reshape().\n"
      ]
    },
    {
      "cell_type": "code",
      "metadata": {
        "id": "iJ--OeGe-BQ7",
        "colab": {
          "base_uri": "https://localhost:8080/",
          "height": 51
        },
        "outputId": "553bde78-daf3-444b-8fa1-b6966bf577cd"
      },
      "source": [
        "### YOUR CODE HERE ###\n",
        "\n",
        "print(f'Before reshape, train_images shape: {train_images.shape} test_images shape: {test_images.shape}')\n",
        "train_images = np.reshape(train_images, (60000, -1))\n",
        "test_images = np.reshape(test_images, (10000, -1))\n",
        "print(f'Before reshape, train_images shape: {train_images.shape} test_images shape: {test_images.shape}')"
      ],
      "execution_count": null,
      "outputs": [
        {
          "output_type": "stream",
          "text": [
            "Before reshape, train_images shape: (60000, 28, 28) test_images shape: (10000, 28, 28)\n",
            "Before reshape, train_images shape: (60000, 784) test_images shape: (10000, 784)\n"
          ],
          "name": "stdout"
        }
      ]
    },
    {
      "cell_type": "markdown",
      "metadata": {
        "id": "tmk0lLTRg2wu"
      },
      "source": [
        "We create a dataframe using our training and testing data to keep everything tidy."
      ]
    },
    {
      "cell_type": "code",
      "metadata": {
        "id": "_gMY-eeSlBqs",
        "colab": {
          "base_uri": "https://localhost:8080/",
          "height": 321
        },
        "outputId": "69f3b663-1af6-402c-d866-2e4a78b637fb"
      },
      "source": [
        "# Add training data into a dataframe\n",
        "img_data = {f\"z{i}\":train_images[:,i] for i in range(784)}\n",
        "img_data[\"label\"] = train_labels\n",
        "df_img_train = pd.DataFrame(img_data)\n",
        "df_img_train[\"class\"] = df_img_train[\"label\"].map(class_dict)\n",
        "df_img_train.head()"
      ],
      "execution_count": null,
      "outputs": [
        {
          "output_type": "execute_result",
          "data": {
            "text/html": [
              "<div>\n",
              "<style scoped>\n",
              "    .dataframe tbody tr th:only-of-type {\n",
              "        vertical-align: middle;\n",
              "    }\n",
              "\n",
              "    .dataframe tbody tr th {\n",
              "        vertical-align: top;\n",
              "    }\n",
              "\n",
              "    .dataframe thead th {\n",
              "        text-align: right;\n",
              "    }\n",
              "</style>\n",
              "<table border=\"1\" class=\"dataframe\">\n",
              "  <thead>\n",
              "    <tr style=\"text-align: right;\">\n",
              "      <th></th>\n",
              "      <th>z0</th>\n",
              "      <th>z1</th>\n",
              "      <th>z2</th>\n",
              "      <th>z3</th>\n",
              "      <th>z4</th>\n",
              "      <th>z5</th>\n",
              "      <th>z6</th>\n",
              "      <th>z7</th>\n",
              "      <th>z8</th>\n",
              "      <th>z9</th>\n",
              "      <th>z10</th>\n",
              "      <th>z11</th>\n",
              "      <th>z12</th>\n",
              "      <th>z13</th>\n",
              "      <th>z14</th>\n",
              "      <th>z15</th>\n",
              "      <th>z16</th>\n",
              "      <th>z17</th>\n",
              "      <th>z18</th>\n",
              "      <th>z19</th>\n",
              "      <th>z20</th>\n",
              "      <th>z21</th>\n",
              "      <th>z22</th>\n",
              "      <th>z23</th>\n",
              "      <th>z24</th>\n",
              "      <th>z25</th>\n",
              "      <th>z26</th>\n",
              "      <th>z27</th>\n",
              "      <th>z28</th>\n",
              "      <th>z29</th>\n",
              "      <th>z30</th>\n",
              "      <th>z31</th>\n",
              "      <th>z32</th>\n",
              "      <th>z33</th>\n",
              "      <th>z34</th>\n",
              "      <th>z35</th>\n",
              "      <th>z36</th>\n",
              "      <th>z37</th>\n",
              "      <th>z38</th>\n",
              "      <th>z39</th>\n",
              "      <th>...</th>\n",
              "      <th>z746</th>\n",
              "      <th>z747</th>\n",
              "      <th>z748</th>\n",
              "      <th>z749</th>\n",
              "      <th>z750</th>\n",
              "      <th>z751</th>\n",
              "      <th>z752</th>\n",
              "      <th>z753</th>\n",
              "      <th>z754</th>\n",
              "      <th>z755</th>\n",
              "      <th>z756</th>\n",
              "      <th>z757</th>\n",
              "      <th>z758</th>\n",
              "      <th>z759</th>\n",
              "      <th>z760</th>\n",
              "      <th>z761</th>\n",
              "      <th>z762</th>\n",
              "      <th>z763</th>\n",
              "      <th>z764</th>\n",
              "      <th>z765</th>\n",
              "      <th>z766</th>\n",
              "      <th>z767</th>\n",
              "      <th>z768</th>\n",
              "      <th>z769</th>\n",
              "      <th>z770</th>\n",
              "      <th>z771</th>\n",
              "      <th>z772</th>\n",
              "      <th>z773</th>\n",
              "      <th>z774</th>\n",
              "      <th>z775</th>\n",
              "      <th>z776</th>\n",
              "      <th>z777</th>\n",
              "      <th>z778</th>\n",
              "      <th>z779</th>\n",
              "      <th>z780</th>\n",
              "      <th>z781</th>\n",
              "      <th>z782</th>\n",
              "      <th>z783</th>\n",
              "      <th>label</th>\n",
              "      <th>class</th>\n",
              "    </tr>\n",
              "  </thead>\n",
              "  <tbody>\n",
              "    <tr>\n",
              "      <th>0</th>\n",
              "      <td>0.0</td>\n",
              "      <td>0.0</td>\n",
              "      <td>0.0</td>\n",
              "      <td>0.0</td>\n",
              "      <td>0.0</td>\n",
              "      <td>0.000000</td>\n",
              "      <td>0.0</td>\n",
              "      <td>0.0</td>\n",
              "      <td>0.000000</td>\n",
              "      <td>0.000000</td>\n",
              "      <td>0.000000</td>\n",
              "      <td>0.000000</td>\n",
              "      <td>0.000000</td>\n",
              "      <td>0.000000</td>\n",
              "      <td>0.000000</td>\n",
              "      <td>0.000000</td>\n",
              "      <td>0.000000</td>\n",
              "      <td>0.000000</td>\n",
              "      <td>0.000000</td>\n",
              "      <td>0.000000</td>\n",
              "      <td>0.0</td>\n",
              "      <td>0.0</td>\n",
              "      <td>0.0</td>\n",
              "      <td>0.0</td>\n",
              "      <td>0.0</td>\n",
              "      <td>0.0</td>\n",
              "      <td>0.0</td>\n",
              "      <td>0.0</td>\n",
              "      <td>0.0</td>\n",
              "      <td>0.0</td>\n",
              "      <td>0.0</td>\n",
              "      <td>0.000000</td>\n",
              "      <td>0.0</td>\n",
              "      <td>0.0</td>\n",
              "      <td>0.000000</td>\n",
              "      <td>0.000000</td>\n",
              "      <td>0.000000</td>\n",
              "      <td>0.000000</td>\n",
              "      <td>0.000000</td>\n",
              "      <td>0.000000</td>\n",
              "      <td>...</td>\n",
              "      <td>0.000000</td>\n",
              "      <td>0.000000</td>\n",
              "      <td>0.000000</td>\n",
              "      <td>0.000000</td>\n",
              "      <td>0.000000</td>\n",
              "      <td>0.000000</td>\n",
              "      <td>0.0</td>\n",
              "      <td>0.0</td>\n",
              "      <td>0.0</td>\n",
              "      <td>0.0</td>\n",
              "      <td>0.0</td>\n",
              "      <td>0.0</td>\n",
              "      <td>0.0</td>\n",
              "      <td>0.0</td>\n",
              "      <td>0.0</td>\n",
              "      <td>0.000000</td>\n",
              "      <td>0.000000</td>\n",
              "      <td>0.0</td>\n",
              "      <td>0.000000</td>\n",
              "      <td>0.000000</td>\n",
              "      <td>0.000000</td>\n",
              "      <td>0.000000</td>\n",
              "      <td>0.000000</td>\n",
              "      <td>0.000000</td>\n",
              "      <td>0.000000</td>\n",
              "      <td>0.000000</td>\n",
              "      <td>0.000000</td>\n",
              "      <td>0.000000</td>\n",
              "      <td>0.000000</td>\n",
              "      <td>0.000000</td>\n",
              "      <td>0.000000</td>\n",
              "      <td>0.000000</td>\n",
              "      <td>0.0</td>\n",
              "      <td>0.0</td>\n",
              "      <td>0.0</td>\n",
              "      <td>0.0</td>\n",
              "      <td>0.0</td>\n",
              "      <td>0.0</td>\n",
              "      <td>9</td>\n",
              "      <td>Ankle boot</td>\n",
              "    </tr>\n",
              "    <tr>\n",
              "      <th>1</th>\n",
              "      <td>0.0</td>\n",
              "      <td>0.0</td>\n",
              "      <td>0.0</td>\n",
              "      <td>0.0</td>\n",
              "      <td>0.0</td>\n",
              "      <td>0.003922</td>\n",
              "      <td>0.0</td>\n",
              "      <td>0.0</td>\n",
              "      <td>0.000000</td>\n",
              "      <td>0.000000</td>\n",
              "      <td>0.160784</td>\n",
              "      <td>0.737255</td>\n",
              "      <td>0.403922</td>\n",
              "      <td>0.211765</td>\n",
              "      <td>0.188235</td>\n",
              "      <td>0.168627</td>\n",
              "      <td>0.341176</td>\n",
              "      <td>0.658824</td>\n",
              "      <td>0.521569</td>\n",
              "      <td>0.062745</td>\n",
              "      <td>0.0</td>\n",
              "      <td>0.0</td>\n",
              "      <td>0.0</td>\n",
              "      <td>0.0</td>\n",
              "      <td>0.0</td>\n",
              "      <td>0.0</td>\n",
              "      <td>0.0</td>\n",
              "      <td>0.0</td>\n",
              "      <td>0.0</td>\n",
              "      <td>0.0</td>\n",
              "      <td>0.0</td>\n",
              "      <td>0.003922</td>\n",
              "      <td>0.0</td>\n",
              "      <td>0.0</td>\n",
              "      <td>0.000000</td>\n",
              "      <td>0.192157</td>\n",
              "      <td>0.533333</td>\n",
              "      <td>0.858824</td>\n",
              "      <td>0.847059</td>\n",
              "      <td>0.894118</td>\n",
              "      <td>...</td>\n",
              "      <td>0.952941</td>\n",
              "      <td>0.839216</td>\n",
              "      <td>0.878431</td>\n",
              "      <td>0.635294</td>\n",
              "      <td>0.000000</td>\n",
              "      <td>0.007843</td>\n",
              "      <td>0.0</td>\n",
              "      <td>0.0</td>\n",
              "      <td>0.0</td>\n",
              "      <td>0.0</td>\n",
              "      <td>0.0</td>\n",
              "      <td>0.0</td>\n",
              "      <td>0.0</td>\n",
              "      <td>0.0</td>\n",
              "      <td>0.0</td>\n",
              "      <td>0.003922</td>\n",
              "      <td>0.000000</td>\n",
              "      <td>0.0</td>\n",
              "      <td>0.545098</td>\n",
              "      <td>0.572549</td>\n",
              "      <td>0.509804</td>\n",
              "      <td>0.529412</td>\n",
              "      <td>0.529412</td>\n",
              "      <td>0.537255</td>\n",
              "      <td>0.490196</td>\n",
              "      <td>0.486275</td>\n",
              "      <td>0.490196</td>\n",
              "      <td>0.474510</td>\n",
              "      <td>0.466667</td>\n",
              "      <td>0.447059</td>\n",
              "      <td>0.509804</td>\n",
              "      <td>0.298039</td>\n",
              "      <td>0.0</td>\n",
              "      <td>0.0</td>\n",
              "      <td>0.0</td>\n",
              "      <td>0.0</td>\n",
              "      <td>0.0</td>\n",
              "      <td>0.0</td>\n",
              "      <td>0</td>\n",
              "      <td>T-shirt/top</td>\n",
              "    </tr>\n",
              "    <tr>\n",
              "      <th>2</th>\n",
              "      <td>0.0</td>\n",
              "      <td>0.0</td>\n",
              "      <td>0.0</td>\n",
              "      <td>0.0</td>\n",
              "      <td>0.0</td>\n",
              "      <td>0.000000</td>\n",
              "      <td>0.0</td>\n",
              "      <td>0.0</td>\n",
              "      <td>0.000000</td>\n",
              "      <td>0.086275</td>\n",
              "      <td>0.462745</td>\n",
              "      <td>0.094118</td>\n",
              "      <td>0.000000</td>\n",
              "      <td>0.000000</td>\n",
              "      <td>0.000000</td>\n",
              "      <td>0.000000</td>\n",
              "      <td>0.000000</td>\n",
              "      <td>0.188235</td>\n",
              "      <td>0.345098</td>\n",
              "      <td>0.019608</td>\n",
              "      <td>0.0</td>\n",
              "      <td>0.0</td>\n",
              "      <td>0.0</td>\n",
              "      <td>0.0</td>\n",
              "      <td>0.0</td>\n",
              "      <td>0.0</td>\n",
              "      <td>0.0</td>\n",
              "      <td>0.0</td>\n",
              "      <td>0.0</td>\n",
              "      <td>0.0</td>\n",
              "      <td>0.0</td>\n",
              "      <td>0.000000</td>\n",
              "      <td>0.0</td>\n",
              "      <td>0.0</td>\n",
              "      <td>0.000000</td>\n",
              "      <td>0.000000</td>\n",
              "      <td>0.047059</td>\n",
              "      <td>0.392157</td>\n",
              "      <td>0.831373</td>\n",
              "      <td>0.803922</td>\n",
              "      <td>...</td>\n",
              "      <td>0.294118</td>\n",
              "      <td>0.039216</td>\n",
              "      <td>0.000000</td>\n",
              "      <td>0.000000</td>\n",
              "      <td>0.000000</td>\n",
              "      <td>0.000000</td>\n",
              "      <td>0.0</td>\n",
              "      <td>0.0</td>\n",
              "      <td>0.0</td>\n",
              "      <td>0.0</td>\n",
              "      <td>0.0</td>\n",
              "      <td>0.0</td>\n",
              "      <td>0.0</td>\n",
              "      <td>0.0</td>\n",
              "      <td>0.0</td>\n",
              "      <td>0.000000</td>\n",
              "      <td>0.000000</td>\n",
              "      <td>0.0</td>\n",
              "      <td>0.003922</td>\n",
              "      <td>0.000000</td>\n",
              "      <td>0.000000</td>\n",
              "      <td>0.000000</td>\n",
              "      <td>0.070588</td>\n",
              "      <td>0.164706</td>\n",
              "      <td>0.223529</td>\n",
              "      <td>0.219608</td>\n",
              "      <td>0.125490</td>\n",
              "      <td>0.031373</td>\n",
              "      <td>0.000000</td>\n",
              "      <td>0.000000</td>\n",
              "      <td>0.003922</td>\n",
              "      <td>0.000000</td>\n",
              "      <td>0.0</td>\n",
              "      <td>0.0</td>\n",
              "      <td>0.0</td>\n",
              "      <td>0.0</td>\n",
              "      <td>0.0</td>\n",
              "      <td>0.0</td>\n",
              "      <td>0</td>\n",
              "      <td>T-shirt/top</td>\n",
              "    </tr>\n",
              "    <tr>\n",
              "      <th>3</th>\n",
              "      <td>0.0</td>\n",
              "      <td>0.0</td>\n",
              "      <td>0.0</td>\n",
              "      <td>0.0</td>\n",
              "      <td>0.0</td>\n",
              "      <td>0.000000</td>\n",
              "      <td>0.0</td>\n",
              "      <td>0.0</td>\n",
              "      <td>0.129412</td>\n",
              "      <td>0.376471</td>\n",
              "      <td>0.686275</td>\n",
              "      <td>0.611765</td>\n",
              "      <td>0.250980</td>\n",
              "      <td>0.054902</td>\n",
              "      <td>0.211765</td>\n",
              "      <td>0.537255</td>\n",
              "      <td>0.800000</td>\n",
              "      <td>0.760784</td>\n",
              "      <td>0.400000</td>\n",
              "      <td>0.000000</td>\n",
              "      <td>0.0</td>\n",
              "      <td>0.0</td>\n",
              "      <td>0.0</td>\n",
              "      <td>0.0</td>\n",
              "      <td>0.0</td>\n",
              "      <td>0.0</td>\n",
              "      <td>0.0</td>\n",
              "      <td>0.0</td>\n",
              "      <td>0.0</td>\n",
              "      <td>0.0</td>\n",
              "      <td>0.0</td>\n",
              "      <td>0.000000</td>\n",
              "      <td>0.0</td>\n",
              "      <td>0.0</td>\n",
              "      <td>0.286275</td>\n",
              "      <td>0.729412</td>\n",
              "      <td>0.694118</td>\n",
              "      <td>0.717647</td>\n",
              "      <td>0.686275</td>\n",
              "      <td>0.737255</td>\n",
              "      <td>...</td>\n",
              "      <td>0.333333</td>\n",
              "      <td>0.627451</td>\n",
              "      <td>0.521569</td>\n",
              "      <td>0.392157</td>\n",
              "      <td>0.047059</td>\n",
              "      <td>0.000000</td>\n",
              "      <td>0.0</td>\n",
              "      <td>0.0</td>\n",
              "      <td>0.0</td>\n",
              "      <td>0.0</td>\n",
              "      <td>0.0</td>\n",
              "      <td>0.0</td>\n",
              "      <td>0.0</td>\n",
              "      <td>0.0</td>\n",
              "      <td>0.0</td>\n",
              "      <td>0.000000</td>\n",
              "      <td>0.015686</td>\n",
              "      <td>0.0</td>\n",
              "      <td>0.007843</td>\n",
              "      <td>0.000000</td>\n",
              "      <td>0.137255</td>\n",
              "      <td>0.015686</td>\n",
              "      <td>0.129412</td>\n",
              "      <td>0.000000</td>\n",
              "      <td>0.000000</td>\n",
              "      <td>0.000000</td>\n",
              "      <td>0.000000</td>\n",
              "      <td>0.000000</td>\n",
              "      <td>0.000000</td>\n",
              "      <td>0.000000</td>\n",
              "      <td>0.000000</td>\n",
              "      <td>0.000000</td>\n",
              "      <td>0.0</td>\n",
              "      <td>0.0</td>\n",
              "      <td>0.0</td>\n",
              "      <td>0.0</td>\n",
              "      <td>0.0</td>\n",
              "      <td>0.0</td>\n",
              "      <td>3</td>\n",
              "      <td>Dress</td>\n",
              "    </tr>\n",
              "    <tr>\n",
              "      <th>4</th>\n",
              "      <td>0.0</td>\n",
              "      <td>0.0</td>\n",
              "      <td>0.0</td>\n",
              "      <td>0.0</td>\n",
              "      <td>0.0</td>\n",
              "      <td>0.000000</td>\n",
              "      <td>0.0</td>\n",
              "      <td>0.0</td>\n",
              "      <td>0.000000</td>\n",
              "      <td>0.000000</td>\n",
              "      <td>0.000000</td>\n",
              "      <td>0.000000</td>\n",
              "      <td>0.000000</td>\n",
              "      <td>0.000000</td>\n",
              "      <td>0.000000</td>\n",
              "      <td>0.000000</td>\n",
              "      <td>0.000000</td>\n",
              "      <td>0.101961</td>\n",
              "      <td>0.000000</td>\n",
              "      <td>0.000000</td>\n",
              "      <td>0.0</td>\n",
              "      <td>0.0</td>\n",
              "      <td>0.0</td>\n",
              "      <td>0.0</td>\n",
              "      <td>0.0</td>\n",
              "      <td>0.0</td>\n",
              "      <td>0.0</td>\n",
              "      <td>0.0</td>\n",
              "      <td>0.0</td>\n",
              "      <td>0.0</td>\n",
              "      <td>0.0</td>\n",
              "      <td>0.000000</td>\n",
              "      <td>0.0</td>\n",
              "      <td>0.0</td>\n",
              "      <td>0.000000</td>\n",
              "      <td>0.000000</td>\n",
              "      <td>0.741176</td>\n",
              "      <td>0.807843</td>\n",
              "      <td>0.733333</td>\n",
              "      <td>0.125490</td>\n",
              "      <td>...</td>\n",
              "      <td>1.000000</td>\n",
              "      <td>0.274510</td>\n",
              "      <td>0.000000</td>\n",
              "      <td>0.000000</td>\n",
              "      <td>0.000000</td>\n",
              "      <td>0.000000</td>\n",
              "      <td>0.0</td>\n",
              "      <td>0.0</td>\n",
              "      <td>0.0</td>\n",
              "      <td>0.0</td>\n",
              "      <td>0.0</td>\n",
              "      <td>0.0</td>\n",
              "      <td>0.0</td>\n",
              "      <td>0.0</td>\n",
              "      <td>0.0</td>\n",
              "      <td>0.000000</td>\n",
              "      <td>0.000000</td>\n",
              "      <td>0.0</td>\n",
              "      <td>0.000000</td>\n",
              "      <td>0.000000</td>\n",
              "      <td>0.239216</td>\n",
              "      <td>0.400000</td>\n",
              "      <td>0.658824</td>\n",
              "      <td>0.098039</td>\n",
              "      <td>0.000000</td>\n",
              "      <td>0.545098</td>\n",
              "      <td>0.631373</td>\n",
              "      <td>0.290196</td>\n",
              "      <td>0.000000</td>\n",
              "      <td>0.000000</td>\n",
              "      <td>0.000000</td>\n",
              "      <td>0.000000</td>\n",
              "      <td>0.0</td>\n",
              "      <td>0.0</td>\n",
              "      <td>0.0</td>\n",
              "      <td>0.0</td>\n",
              "      <td>0.0</td>\n",
              "      <td>0.0</td>\n",
              "      <td>0</td>\n",
              "      <td>T-shirt/top</td>\n",
              "    </tr>\n",
              "  </tbody>\n",
              "</table>\n",
              "<p>5 rows × 786 columns</p>\n",
              "</div>"
            ],
            "text/plain": [
              "    z0   z1   z2   z3   z4  ...  z781  z782  z783  label        class\n",
              "0  0.0  0.0  0.0  0.0  0.0  ...   0.0   0.0   0.0      9   Ankle boot\n",
              "1  0.0  0.0  0.0  0.0  0.0  ...   0.0   0.0   0.0      0  T-shirt/top\n",
              "2  0.0  0.0  0.0  0.0  0.0  ...   0.0   0.0   0.0      0  T-shirt/top\n",
              "3  0.0  0.0  0.0  0.0  0.0  ...   0.0   0.0   0.0      3        Dress\n",
              "4  0.0  0.0  0.0  0.0  0.0  ...   0.0   0.0   0.0      0  T-shirt/top\n",
              "\n",
              "[5 rows x 786 columns]"
            ]
          },
          "metadata": {
            "tags": []
          },
          "execution_count": 13
        }
      ]
    },
    {
      "cell_type": "code",
      "metadata": {
        "id": "f4Cwpg90Grrx",
        "colab": {
          "base_uri": "https://localhost:8080/",
          "height": 270
        },
        "outputId": "c3a329ed-26f4-4fd5-c4f1-9563ef2f1203"
      },
      "source": [
        "# Add test data into a dataframe\n",
        "img_data = {f\"z{i}\":test_images[:,i] for i in range(784)}\n",
        "img_data[\"label\"] = test_labels\n",
        "df_img_test = pd.DataFrame(img_data)\n",
        "df_img_test[\"class\"] = df_img_test[\"label\"].map(class_dict)\n",
        "df_img_test.head()"
      ],
      "execution_count": null,
      "outputs": [
        {
          "output_type": "execute_result",
          "data": {
            "text/html": [
              "<div>\n",
              "<style scoped>\n",
              "    .dataframe tbody tr th:only-of-type {\n",
              "        vertical-align: middle;\n",
              "    }\n",
              "\n",
              "    .dataframe tbody tr th {\n",
              "        vertical-align: top;\n",
              "    }\n",
              "\n",
              "    .dataframe thead th {\n",
              "        text-align: right;\n",
              "    }\n",
              "</style>\n",
              "<table border=\"1\" class=\"dataframe\">\n",
              "  <thead>\n",
              "    <tr style=\"text-align: right;\">\n",
              "      <th></th>\n",
              "      <th>z0</th>\n",
              "      <th>z1</th>\n",
              "      <th>z2</th>\n",
              "      <th>z3</th>\n",
              "      <th>z4</th>\n",
              "      <th>z5</th>\n",
              "      <th>z6</th>\n",
              "      <th>z7</th>\n",
              "      <th>z8</th>\n",
              "      <th>z9</th>\n",
              "      <th>z10</th>\n",
              "      <th>z11</th>\n",
              "      <th>z12</th>\n",
              "      <th>z13</th>\n",
              "      <th>z14</th>\n",
              "      <th>z15</th>\n",
              "      <th>z16</th>\n",
              "      <th>z17</th>\n",
              "      <th>z18</th>\n",
              "      <th>z19</th>\n",
              "      <th>z20</th>\n",
              "      <th>z21</th>\n",
              "      <th>z22</th>\n",
              "      <th>z23</th>\n",
              "      <th>z24</th>\n",
              "      <th>z25</th>\n",
              "      <th>z26</th>\n",
              "      <th>z27</th>\n",
              "      <th>z28</th>\n",
              "      <th>z29</th>\n",
              "      <th>z30</th>\n",
              "      <th>z31</th>\n",
              "      <th>z32</th>\n",
              "      <th>z33</th>\n",
              "      <th>z34</th>\n",
              "      <th>z35</th>\n",
              "      <th>z36</th>\n",
              "      <th>z37</th>\n",
              "      <th>z38</th>\n",
              "      <th>z39</th>\n",
              "      <th>...</th>\n",
              "      <th>z746</th>\n",
              "      <th>z747</th>\n",
              "      <th>z748</th>\n",
              "      <th>z749</th>\n",
              "      <th>z750</th>\n",
              "      <th>z751</th>\n",
              "      <th>z752</th>\n",
              "      <th>z753</th>\n",
              "      <th>z754</th>\n",
              "      <th>z755</th>\n",
              "      <th>z756</th>\n",
              "      <th>z757</th>\n",
              "      <th>z758</th>\n",
              "      <th>z759</th>\n",
              "      <th>z760</th>\n",
              "      <th>z761</th>\n",
              "      <th>z762</th>\n",
              "      <th>z763</th>\n",
              "      <th>z764</th>\n",
              "      <th>z765</th>\n",
              "      <th>z766</th>\n",
              "      <th>z767</th>\n",
              "      <th>z768</th>\n",
              "      <th>z769</th>\n",
              "      <th>z770</th>\n",
              "      <th>z771</th>\n",
              "      <th>z772</th>\n",
              "      <th>z773</th>\n",
              "      <th>z774</th>\n",
              "      <th>z775</th>\n",
              "      <th>z776</th>\n",
              "      <th>z777</th>\n",
              "      <th>z778</th>\n",
              "      <th>z779</th>\n",
              "      <th>z780</th>\n",
              "      <th>z781</th>\n",
              "      <th>z782</th>\n",
              "      <th>z783</th>\n",
              "      <th>label</th>\n",
              "      <th>class</th>\n",
              "    </tr>\n",
              "  </thead>\n",
              "  <tbody>\n",
              "    <tr>\n",
              "      <th>0</th>\n",
              "      <td>0.0</td>\n",
              "      <td>0.0</td>\n",
              "      <td>0.0</td>\n",
              "      <td>0.000000</td>\n",
              "      <td>0.0</td>\n",
              "      <td>0.000000</td>\n",
              "      <td>0.000000</td>\n",
              "      <td>0.0</td>\n",
              "      <td>0.000000</td>\n",
              "      <td>0.000000</td>\n",
              "      <td>0.000000</td>\n",
              "      <td>0.000000</td>\n",
              "      <td>0.000000</td>\n",
              "      <td>0.000000</td>\n",
              "      <td>0.000000</td>\n",
              "      <td>0.000000</td>\n",
              "      <td>0.000000</td>\n",
              "      <td>0.000000</td>\n",
              "      <td>0.000000</td>\n",
              "      <td>0.000000</td>\n",
              "      <td>0.0</td>\n",
              "      <td>0.0</td>\n",
              "      <td>0.0</td>\n",
              "      <td>0.0</td>\n",
              "      <td>0.0</td>\n",
              "      <td>0.0</td>\n",
              "      <td>0.0</td>\n",
              "      <td>0.0</td>\n",
              "      <td>0.0</td>\n",
              "      <td>0.0</td>\n",
              "      <td>0.0</td>\n",
              "      <td>0.000000</td>\n",
              "      <td>0.000000</td>\n",
              "      <td>0.000000</td>\n",
              "      <td>0.0</td>\n",
              "      <td>0.000000</td>\n",
              "      <td>0.000000</td>\n",
              "      <td>0.000000</td>\n",
              "      <td>0.000000</td>\n",
              "      <td>0.000000</td>\n",
              "      <td>...</td>\n",
              "      <td>0.000000</td>\n",
              "      <td>0.000000</td>\n",
              "      <td>0.000000</td>\n",
              "      <td>0.000000</td>\n",
              "      <td>0.000000</td>\n",
              "      <td>0.0</td>\n",
              "      <td>0.000000</td>\n",
              "      <td>0.0</td>\n",
              "      <td>0.0</td>\n",
              "      <td>0.0</td>\n",
              "      <td>0.0</td>\n",
              "      <td>0.0</td>\n",
              "      <td>0.0</td>\n",
              "      <td>0.0</td>\n",
              "      <td>0.000000</td>\n",
              "      <td>0.000000</td>\n",
              "      <td>0.000000</td>\n",
              "      <td>0.000000</td>\n",
              "      <td>0.0</td>\n",
              "      <td>0.000000</td>\n",
              "      <td>0.000000</td>\n",
              "      <td>0.000000</td>\n",
              "      <td>0.000000</td>\n",
              "      <td>0.000000</td>\n",
              "      <td>0.000000</td>\n",
              "      <td>0.000000</td>\n",
              "      <td>0.000000</td>\n",
              "      <td>0.000000</td>\n",
              "      <td>0.000000</td>\n",
              "      <td>0.000000</td>\n",
              "      <td>0.0</td>\n",
              "      <td>0.000000</td>\n",
              "      <td>0.000000</td>\n",
              "      <td>0.000000</td>\n",
              "      <td>0.000000</td>\n",
              "      <td>0.0</td>\n",
              "      <td>0.0</td>\n",
              "      <td>0.0</td>\n",
              "      <td>9</td>\n",
              "      <td>Ankle boot</td>\n",
              "    </tr>\n",
              "    <tr>\n",
              "      <th>1</th>\n",
              "      <td>0.0</td>\n",
              "      <td>0.0</td>\n",
              "      <td>0.0</td>\n",
              "      <td>0.000000</td>\n",
              "      <td>0.0</td>\n",
              "      <td>0.000000</td>\n",
              "      <td>0.000000</td>\n",
              "      <td>0.0</td>\n",
              "      <td>0.000000</td>\n",
              "      <td>0.000000</td>\n",
              "      <td>0.050980</td>\n",
              "      <td>0.262745</td>\n",
              "      <td>0.000000</td>\n",
              "      <td>0.000000</td>\n",
              "      <td>0.000000</td>\n",
              "      <td>0.000000</td>\n",
              "      <td>0.196078</td>\n",
              "      <td>0.149020</td>\n",
              "      <td>0.000000</td>\n",
              "      <td>0.000000</td>\n",
              "      <td>0.0</td>\n",
              "      <td>0.0</td>\n",
              "      <td>0.0</td>\n",
              "      <td>0.0</td>\n",
              "      <td>0.0</td>\n",
              "      <td>0.0</td>\n",
              "      <td>0.0</td>\n",
              "      <td>0.0</td>\n",
              "      <td>0.0</td>\n",
              "      <td>0.0</td>\n",
              "      <td>0.0</td>\n",
              "      <td>0.000000</td>\n",
              "      <td>0.000000</td>\n",
              "      <td>0.000000</td>\n",
              "      <td>0.0</td>\n",
              "      <td>0.031373</td>\n",
              "      <td>0.470588</td>\n",
              "      <td>0.819608</td>\n",
              "      <td>0.886275</td>\n",
              "      <td>0.968627</td>\n",
              "      <td>...</td>\n",
              "      <td>0.000000</td>\n",
              "      <td>0.000000</td>\n",
              "      <td>0.000000</td>\n",
              "      <td>0.152941</td>\n",
              "      <td>0.976471</td>\n",
              "      <td>1.0</td>\n",
              "      <td>0.482353</td>\n",
              "      <td>0.0</td>\n",
              "      <td>0.0</td>\n",
              "      <td>0.0</td>\n",
              "      <td>0.0</td>\n",
              "      <td>0.0</td>\n",
              "      <td>0.0</td>\n",
              "      <td>0.0</td>\n",
              "      <td>0.192157</td>\n",
              "      <td>0.803922</td>\n",
              "      <td>0.772549</td>\n",
              "      <td>0.043137</td>\n",
              "      <td>0.0</td>\n",
              "      <td>0.015686</td>\n",
              "      <td>0.003922</td>\n",
              "      <td>0.007843</td>\n",
              "      <td>0.007843</td>\n",
              "      <td>0.007843</td>\n",
              "      <td>0.007843</td>\n",
              "      <td>0.007843</td>\n",
              "      <td>0.007843</td>\n",
              "      <td>0.007843</td>\n",
              "      <td>0.007843</td>\n",
              "      <td>0.011765</td>\n",
              "      <td>0.0</td>\n",
              "      <td>0.011765</td>\n",
              "      <td>0.682353</td>\n",
              "      <td>0.741176</td>\n",
              "      <td>0.262745</td>\n",
              "      <td>0.0</td>\n",
              "      <td>0.0</td>\n",
              "      <td>0.0</td>\n",
              "      <td>2</td>\n",
              "      <td>Pullover</td>\n",
              "    </tr>\n",
              "    <tr>\n",
              "      <th>2</th>\n",
              "      <td>0.0</td>\n",
              "      <td>0.0</td>\n",
              "      <td>0.0</td>\n",
              "      <td>0.000000</td>\n",
              "      <td>0.0</td>\n",
              "      <td>0.000000</td>\n",
              "      <td>0.000000</td>\n",
              "      <td>0.0</td>\n",
              "      <td>0.003922</td>\n",
              "      <td>0.000000</td>\n",
              "      <td>0.262745</td>\n",
              "      <td>0.694118</td>\n",
              "      <td>0.505882</td>\n",
              "      <td>0.600000</td>\n",
              "      <td>0.458824</td>\n",
              "      <td>0.505882</td>\n",
              "      <td>0.572549</td>\n",
              "      <td>0.552941</td>\n",
              "      <td>0.686275</td>\n",
              "      <td>0.000000</td>\n",
              "      <td>0.0</td>\n",
              "      <td>0.0</td>\n",
              "      <td>0.0</td>\n",
              "      <td>0.0</td>\n",
              "      <td>0.0</td>\n",
              "      <td>0.0</td>\n",
              "      <td>0.0</td>\n",
              "      <td>0.0</td>\n",
              "      <td>0.0</td>\n",
              "      <td>0.0</td>\n",
              "      <td>0.0</td>\n",
              "      <td>0.000000</td>\n",
              "      <td>0.000000</td>\n",
              "      <td>0.000000</td>\n",
              "      <td>0.0</td>\n",
              "      <td>0.000000</td>\n",
              "      <td>0.007843</td>\n",
              "      <td>0.000000</td>\n",
              "      <td>0.768627</td>\n",
              "      <td>1.000000</td>\n",
              "      <td>...</td>\n",
              "      <td>0.988235</td>\n",
              "      <td>0.466667</td>\n",
              "      <td>0.000000</td>\n",
              "      <td>0.000000</td>\n",
              "      <td>0.000000</td>\n",
              "      <td>0.0</td>\n",
              "      <td>0.000000</td>\n",
              "      <td>0.0</td>\n",
              "      <td>0.0</td>\n",
              "      <td>0.0</td>\n",
              "      <td>0.0</td>\n",
              "      <td>0.0</td>\n",
              "      <td>0.0</td>\n",
              "      <td>0.0</td>\n",
              "      <td>0.000000</td>\n",
              "      <td>0.000000</td>\n",
              "      <td>0.000000</td>\n",
              "      <td>0.000000</td>\n",
              "      <td>0.0</td>\n",
              "      <td>0.000000</td>\n",
              "      <td>0.000000</td>\n",
              "      <td>0.384314</td>\n",
              "      <td>0.623529</td>\n",
              "      <td>0.278431</td>\n",
              "      <td>0.000000</td>\n",
              "      <td>0.000000</td>\n",
              "      <td>0.266667</td>\n",
              "      <td>0.690196</td>\n",
              "      <td>0.643137</td>\n",
              "      <td>0.227451</td>\n",
              "      <td>0.0</td>\n",
              "      <td>0.000000</td>\n",
              "      <td>0.000000</td>\n",
              "      <td>0.000000</td>\n",
              "      <td>0.000000</td>\n",
              "      <td>0.0</td>\n",
              "      <td>0.0</td>\n",
              "      <td>0.0</td>\n",
              "      <td>1</td>\n",
              "      <td>Trouser</td>\n",
              "    </tr>\n",
              "    <tr>\n",
              "      <th>3</th>\n",
              "      <td>0.0</td>\n",
              "      <td>0.0</td>\n",
              "      <td>0.0</td>\n",
              "      <td>0.000000</td>\n",
              "      <td>0.0</td>\n",
              "      <td>0.000000</td>\n",
              "      <td>0.000000</td>\n",
              "      <td>0.0</td>\n",
              "      <td>0.000000</td>\n",
              "      <td>0.082353</td>\n",
              "      <td>0.482353</td>\n",
              "      <td>0.423529</td>\n",
              "      <td>0.388235</td>\n",
              "      <td>0.388235</td>\n",
              "      <td>0.329412</td>\n",
              "      <td>0.325490</td>\n",
              "      <td>0.337255</td>\n",
              "      <td>0.360784</td>\n",
              "      <td>0.274510</td>\n",
              "      <td>0.023529</td>\n",
              "      <td>0.0</td>\n",
              "      <td>0.0</td>\n",
              "      <td>0.0</td>\n",
              "      <td>0.0</td>\n",
              "      <td>0.0</td>\n",
              "      <td>0.0</td>\n",
              "      <td>0.0</td>\n",
              "      <td>0.0</td>\n",
              "      <td>0.0</td>\n",
              "      <td>0.0</td>\n",
              "      <td>0.0</td>\n",
              "      <td>0.000000</td>\n",
              "      <td>0.000000</td>\n",
              "      <td>0.000000</td>\n",
              "      <td>0.0</td>\n",
              "      <td>0.000000</td>\n",
              "      <td>0.000000</td>\n",
              "      <td>0.415686</td>\n",
              "      <td>0.972549</td>\n",
              "      <td>0.901961</td>\n",
              "      <td>...</td>\n",
              "      <td>0.180392</td>\n",
              "      <td>0.000000</td>\n",
              "      <td>0.000000</td>\n",
              "      <td>0.000000</td>\n",
              "      <td>0.000000</td>\n",
              "      <td>0.0</td>\n",
              "      <td>0.000000</td>\n",
              "      <td>0.0</td>\n",
              "      <td>0.0</td>\n",
              "      <td>0.0</td>\n",
              "      <td>0.0</td>\n",
              "      <td>0.0</td>\n",
              "      <td>0.0</td>\n",
              "      <td>0.0</td>\n",
              "      <td>0.000000</td>\n",
              "      <td>0.000000</td>\n",
              "      <td>0.000000</td>\n",
              "      <td>0.000000</td>\n",
              "      <td>0.0</td>\n",
              "      <td>0.000000</td>\n",
              "      <td>0.078431</td>\n",
              "      <td>0.682353</td>\n",
              "      <td>0.396078</td>\n",
              "      <td>0.000000</td>\n",
              "      <td>0.000000</td>\n",
              "      <td>0.000000</td>\n",
              "      <td>0.572549</td>\n",
              "      <td>0.572549</td>\n",
              "      <td>0.003922</td>\n",
              "      <td>0.000000</td>\n",
              "      <td>0.0</td>\n",
              "      <td>0.000000</td>\n",
              "      <td>0.000000</td>\n",
              "      <td>0.000000</td>\n",
              "      <td>0.000000</td>\n",
              "      <td>0.0</td>\n",
              "      <td>0.0</td>\n",
              "      <td>0.0</td>\n",
              "      <td>1</td>\n",
              "      <td>Trouser</td>\n",
              "    </tr>\n",
              "    <tr>\n",
              "      <th>4</th>\n",
              "      <td>0.0</td>\n",
              "      <td>0.0</td>\n",
              "      <td>0.0</td>\n",
              "      <td>0.007843</td>\n",
              "      <td>0.0</td>\n",
              "      <td>0.003922</td>\n",
              "      <td>0.003922</td>\n",
              "      <td>0.0</td>\n",
              "      <td>0.000000</td>\n",
              "      <td>0.000000</td>\n",
              "      <td>0.000000</td>\n",
              "      <td>0.223529</td>\n",
              "      <td>0.262745</td>\n",
              "      <td>0.286275</td>\n",
              "      <td>0.298039</td>\n",
              "      <td>0.298039</td>\n",
              "      <td>0.325490</td>\n",
              "      <td>0.243137</td>\n",
              "      <td>0.000000</td>\n",
              "      <td>0.000000</td>\n",
              "      <td>0.0</td>\n",
              "      <td>0.0</td>\n",
              "      <td>0.0</td>\n",
              "      <td>0.0</td>\n",
              "      <td>0.0</td>\n",
              "      <td>0.0</td>\n",
              "      <td>0.0</td>\n",
              "      <td>0.0</td>\n",
              "      <td>0.0</td>\n",
              "      <td>0.0</td>\n",
              "      <td>0.0</td>\n",
              "      <td>0.003922</td>\n",
              "      <td>0.003922</td>\n",
              "      <td>0.003922</td>\n",
              "      <td>0.0</td>\n",
              "      <td>0.000000</td>\n",
              "      <td>0.050980</td>\n",
              "      <td>0.309804</td>\n",
              "      <td>0.501961</td>\n",
              "      <td>0.788235</td>\n",
              "      <td>...</td>\n",
              "      <td>0.772549</td>\n",
              "      <td>0.713725</td>\n",
              "      <td>0.635294</td>\n",
              "      <td>0.239216</td>\n",
              "      <td>0.000000</td>\n",
              "      <td>0.0</td>\n",
              "      <td>0.000000</td>\n",
              "      <td>0.0</td>\n",
              "      <td>0.0</td>\n",
              "      <td>0.0</td>\n",
              "      <td>0.0</td>\n",
              "      <td>0.0</td>\n",
              "      <td>0.0</td>\n",
              "      <td>0.0</td>\n",
              "      <td>0.000000</td>\n",
              "      <td>0.000000</td>\n",
              "      <td>0.000000</td>\n",
              "      <td>0.000000</td>\n",
              "      <td>0.0</td>\n",
              "      <td>0.000000</td>\n",
              "      <td>0.117647</td>\n",
              "      <td>0.282353</td>\n",
              "      <td>0.372549</td>\n",
              "      <td>0.427451</td>\n",
              "      <td>0.435294</td>\n",
              "      <td>0.435294</td>\n",
              "      <td>0.415686</td>\n",
              "      <td>0.396078</td>\n",
              "      <td>0.278431</td>\n",
              "      <td>0.047059</td>\n",
              "      <td>0.0</td>\n",
              "      <td>0.000000</td>\n",
              "      <td>0.000000</td>\n",
              "      <td>0.000000</td>\n",
              "      <td>0.000000</td>\n",
              "      <td>0.0</td>\n",
              "      <td>0.0</td>\n",
              "      <td>0.0</td>\n",
              "      <td>6</td>\n",
              "      <td>Shirt</td>\n",
              "    </tr>\n",
              "  </tbody>\n",
              "</table>\n",
              "<p>5 rows × 786 columns</p>\n",
              "</div>"
            ],
            "text/plain": [
              "    z0   z1   z2        z3   z4  ...  z781  z782  z783  label       class\n",
              "0  0.0  0.0  0.0  0.000000  0.0  ...   0.0   0.0   0.0      9  Ankle boot\n",
              "1  0.0  0.0  0.0  0.000000  0.0  ...   0.0   0.0   0.0      2    Pullover\n",
              "2  0.0  0.0  0.0  0.000000  0.0  ...   0.0   0.0   0.0      1     Trouser\n",
              "3  0.0  0.0  0.0  0.000000  0.0  ...   0.0   0.0   0.0      1     Trouser\n",
              "4  0.0  0.0  0.0  0.007843  0.0  ...   0.0   0.0   0.0      6       Shirt\n",
              "\n",
              "[5 rows x 786 columns]"
            ]
          },
          "metadata": {
            "tags": []
          },
          "execution_count": 14
        }
      ]
    },
    {
      "cell_type": "markdown",
      "metadata": {
        "id": "vSxMPe7n-BRD"
      },
      "source": [
        "Now we have our data reshaped into the $784D$ vectors, we can classify the images using a feed forward artifical neural network.\n",
        "\n"
      ]
    },
    {
      "cell_type": "markdown",
      "metadata": {
        "id": "Vv36QfGvgkTQ"
      },
      "source": [
        "## Question 2: Neural Network\n",
        "In this question we will build different neural network models. \n",
        "\n",
        "### Question 2.1) Pullovers vs. Coats. \n",
        "\n",
        "Build a neural network to your liking and train it for 50 epochs with a 0.2 train/validation split. You will want to use binary cross entropy (\"bce\") loss as the loss function. See if you can tune your model to achieve 70% accuracy."
      ]
    },
    {
      "cell_type": "code",
      "metadata": {
        "id": "7EXXqZmah9ms"
      },
      "source": [
        "from tensorflow.keras.layers import Input, Dense # only use these layers\n",
        "from tensorflow.keras.models import Model\n",
        "from tensorflow.keras.optimizers import * # you can use any optimizer\n",
        "\n",
        "# DEFINE YOUR MODEL HERE\n",
        "### YOUR CODE HERE ###\n",
        "input_layer = Input(shape=(784))\n",
        "x = Dense(784, input_dim=784, activation='relu')(input_layer)\n",
        "x = Dense(1, activation='sigmoid')(x)\n",
        "\n",
        "model = Model(input_layer, x)"
      ],
      "execution_count": null,
      "outputs": []
    },
    {
      "cell_type": "code",
      "metadata": {
        "id": "Fyf3VAHEiFXy",
        "colab": {
          "base_uri": "https://localhost:8080/",
          "height": 255
        },
        "outputId": "edfd6771-d68a-412f-e3c5-2d6aca87283b"
      },
      "source": [
        "# Show a summary of your model\n",
        "model.summary()"
      ],
      "execution_count": null,
      "outputs": [
        {
          "output_type": "stream",
          "text": [
            "Model: \"functional_1\"\n",
            "_________________________________________________________________\n",
            "Layer (type)                 Output Shape              Param #   \n",
            "=================================================================\n",
            "input_1 (InputLayer)         [(None, 784)]             0         \n",
            "_________________________________________________________________\n",
            "dense (Dense)                (None, 784)               615440    \n",
            "_________________________________________________________________\n",
            "dense_1 (Dense)              (None, 1)                 785       \n",
            "=================================================================\n",
            "Total params: 616,225\n",
            "Trainable params: 616,225\n",
            "Non-trainable params: 0\n",
            "_________________________________________________________________\n"
          ],
          "name": "stdout"
        }
      ]
    },
    {
      "cell_type": "code",
      "metadata": {
        "id": "Xd4FEmAzhBWm"
      },
      "source": [
        "# A function for getting a subset of the data\n",
        "def get_data_subset(df, classes=[], shuffle=True, shuffle_seed=42):\n",
        "    \"\"\"\n",
        "    Used to retrieve columns from df\n",
        "    \"\"\"\n",
        "    if classes == []:\n",
        "        print(\"Pleas\")\n",
        "    else:\n",
        "        df_filtered = df[(df[\"class\"] == classes[0]) | (df[\"class\"] == classes[1])].copy()\n",
        "        df_filtered[\"binary_label\"] = 0\n",
        "        df_filtered.loc[df[\"class\"] == classes[1], \"binary_label\"] = 1\n",
        "        data = df_filtered.filter(regex=(\"z[0-9]+\")).values\n",
        "        labels = df_filtered[\"binary_label\"].values\n",
        "        if shuffle:\n",
        "            np.random.seed(shuffle_seed)\n",
        "            np.random.shuffle(data)\n",
        "            np.random.seed(shuffle_seed)\n",
        "            np.random.shuffle(labels)\n",
        "\n",
        "    return data, labels.reshape(-1,1)"
      ],
      "execution_count": null,
      "outputs": []
    },
    {
      "cell_type": "code",
      "metadata": {
        "id": "NqPfiJkZiHjr"
      },
      "source": [
        "# Preparing data for training, use get_data_subset along with df_img_train\n",
        "\n",
        "X, y = get_data_subset(df_img_train, classes = [\"Coat\", \"Pullover\"])"
      ],
      "execution_count": null,
      "outputs": []
    },
    {
      "cell_type": "code",
      "metadata": {
        "id": "vd5TyTGUiJU7"
      },
      "source": [
        "# Compile your model with your chosen optimizer, binary cross entropy for the loss, and accuracy as the metric\n",
        "\n",
        "### YOUR CODE HERE ###\n",
        "model.compile(loss='binary_crossentropy', optimizer='adam', metrics=['accuracy'])"
      ],
      "execution_count": null,
      "outputs": []
    },
    {
      "cell_type": "code",
      "metadata": {
        "id": "9jD9zSj_ifjq",
        "colab": {
          "base_uri": "https://localhost:8080/",
          "height": 1000
        },
        "outputId": "5bc55fbe-f04c-48a0-8750-d15806f86444"
      },
      "source": [
        "# Call fit on your model passing in the train_images, train_labels data above, train for 50 epochs 0.2 train/validation split\n",
        "\n",
        "### YOUR CODE HERE ###\n",
        "hist = model.fit(X, y, epochs=50, validation_split=0.2)"
      ],
      "execution_count": null,
      "outputs": [
        {
          "output_type": "stream",
          "text": [
            "Epoch 1/50\n",
            "300/300 [==============================] - 1s 2ms/step - loss: 0.3989 - accuracy: 0.8266 - val_loss: 0.3925 - val_accuracy: 0.8383\n",
            "Epoch 2/50\n",
            "300/300 [==============================] - 1s 2ms/step - loss: 0.3348 - accuracy: 0.8594 - val_loss: 0.3162 - val_accuracy: 0.8754\n",
            "Epoch 3/50\n",
            "300/300 [==============================] - 1s 2ms/step - loss: 0.3085 - accuracy: 0.8732 - val_loss: 0.3232 - val_accuracy: 0.8671\n",
            "Epoch 4/50\n",
            "300/300 [==============================] - 1s 2ms/step - loss: 0.2934 - accuracy: 0.8796 - val_loss: 0.2859 - val_accuracy: 0.8946\n",
            "Epoch 5/50\n",
            "300/300 [==============================] - 1s 2ms/step - loss: 0.2841 - accuracy: 0.8835 - val_loss: 0.3103 - val_accuracy: 0.8767\n",
            "Epoch 6/50\n",
            "300/300 [==============================] - 1s 2ms/step - loss: 0.2708 - accuracy: 0.8893 - val_loss: 0.3163 - val_accuracy: 0.8742\n",
            "Epoch 7/50\n",
            "300/300 [==============================] - 1s 2ms/step - loss: 0.2585 - accuracy: 0.8978 - val_loss: 0.3045 - val_accuracy: 0.8679\n",
            "Epoch 8/50\n",
            "300/300 [==============================] - 1s 2ms/step - loss: 0.2522 - accuracy: 0.8998 - val_loss: 0.2644 - val_accuracy: 0.8938\n",
            "Epoch 9/50\n",
            "300/300 [==============================] - 1s 2ms/step - loss: 0.2458 - accuracy: 0.9015 - val_loss: 0.2693 - val_accuracy: 0.8904\n",
            "Epoch 10/50\n",
            "300/300 [==============================] - 1s 2ms/step - loss: 0.2426 - accuracy: 0.9039 - val_loss: 0.3019 - val_accuracy: 0.8737\n",
            "Epoch 11/50\n",
            "300/300 [==============================] - 1s 2ms/step - loss: 0.2296 - accuracy: 0.9076 - val_loss: 0.2710 - val_accuracy: 0.8867\n",
            "Epoch 12/50\n",
            "300/300 [==============================] - 1s 2ms/step - loss: 0.2280 - accuracy: 0.9139 - val_loss: 0.2703 - val_accuracy: 0.8850\n",
            "Epoch 13/50\n",
            "300/300 [==============================] - 1s 2ms/step - loss: 0.2253 - accuracy: 0.9125 - val_loss: 0.2517 - val_accuracy: 0.8921\n",
            "Epoch 14/50\n",
            "300/300 [==============================] - 1s 2ms/step - loss: 0.2188 - accuracy: 0.9136 - val_loss: 0.3015 - val_accuracy: 0.8712\n",
            "Epoch 15/50\n",
            "300/300 [==============================] - 1s 2ms/step - loss: 0.2070 - accuracy: 0.9180 - val_loss: 0.2529 - val_accuracy: 0.8950\n",
            "Epoch 16/50\n",
            "300/300 [==============================] - 1s 2ms/step - loss: 0.2093 - accuracy: 0.9139 - val_loss: 0.2736 - val_accuracy: 0.8875\n",
            "Epoch 17/50\n",
            "300/300 [==============================] - 1s 2ms/step - loss: 0.2006 - accuracy: 0.9190 - val_loss: 0.2415 - val_accuracy: 0.9021\n",
            "Epoch 18/50\n",
            "300/300 [==============================] - 1s 2ms/step - loss: 0.2007 - accuracy: 0.9219 - val_loss: 0.2521 - val_accuracy: 0.8971\n",
            "Epoch 19/50\n",
            "300/300 [==============================] - 1s 2ms/step - loss: 0.1921 - accuracy: 0.9274 - val_loss: 0.2442 - val_accuracy: 0.8967\n",
            "Epoch 20/50\n",
            "300/300 [==============================] - 1s 2ms/step - loss: 0.1918 - accuracy: 0.9270 - val_loss: 0.2480 - val_accuracy: 0.9033\n",
            "Epoch 21/50\n",
            "300/300 [==============================] - 1s 2ms/step - loss: 0.1903 - accuracy: 0.9260 - val_loss: 0.2399 - val_accuracy: 0.9017\n",
            "Epoch 22/50\n",
            "300/300 [==============================] - 1s 2ms/step - loss: 0.1785 - accuracy: 0.9297 - val_loss: 0.2382 - val_accuracy: 0.9029\n",
            "Epoch 23/50\n",
            "300/300 [==============================] - 1s 2ms/step - loss: 0.1784 - accuracy: 0.9321 - val_loss: 0.2516 - val_accuracy: 0.9017\n",
            "Epoch 24/50\n",
            "300/300 [==============================] - 1s 2ms/step - loss: 0.1713 - accuracy: 0.9319 - val_loss: 0.2587 - val_accuracy: 0.8975\n",
            "Epoch 25/50\n",
            "300/300 [==============================] - 1s 2ms/step - loss: 0.1683 - accuracy: 0.9335 - val_loss: 0.2399 - val_accuracy: 0.9013\n",
            "Epoch 26/50\n",
            "300/300 [==============================] - 1s 2ms/step - loss: 0.1636 - accuracy: 0.9351 - val_loss: 0.2573 - val_accuracy: 0.8971\n",
            "Epoch 27/50\n",
            "300/300 [==============================] - 1s 2ms/step - loss: 0.1634 - accuracy: 0.9373 - val_loss: 0.2518 - val_accuracy: 0.8979\n",
            "Epoch 28/50\n",
            "300/300 [==============================] - 1s 2ms/step - loss: 0.1595 - accuracy: 0.9378 - val_loss: 0.2373 - val_accuracy: 0.9054\n",
            "Epoch 29/50\n",
            "300/300 [==============================] - 1s 2ms/step - loss: 0.1487 - accuracy: 0.9392 - val_loss: 0.2426 - val_accuracy: 0.9125\n",
            "Epoch 30/50\n",
            "300/300 [==============================] - 1s 2ms/step - loss: 0.1494 - accuracy: 0.9389 - val_loss: 0.2398 - val_accuracy: 0.9029\n",
            "Epoch 31/50\n",
            "300/300 [==============================] - 1s 2ms/step - loss: 0.1445 - accuracy: 0.9423 - val_loss: 0.3264 - val_accuracy: 0.8754\n",
            "Epoch 32/50\n",
            "300/300 [==============================] - 1s 2ms/step - loss: 0.1408 - accuracy: 0.9453 - val_loss: 0.3108 - val_accuracy: 0.8867\n",
            "Epoch 33/50\n",
            "300/300 [==============================] - 1s 2ms/step - loss: 0.1392 - accuracy: 0.9422 - val_loss: 0.2811 - val_accuracy: 0.9033\n",
            "Epoch 34/50\n",
            "300/300 [==============================] - 1s 2ms/step - loss: 0.1361 - accuracy: 0.9471 - val_loss: 0.2554 - val_accuracy: 0.9067\n",
            "Epoch 35/50\n",
            "300/300 [==============================] - 1s 2ms/step - loss: 0.1322 - accuracy: 0.9467 - val_loss: 0.2553 - val_accuracy: 0.9087\n",
            "Epoch 36/50\n",
            "300/300 [==============================] - 1s 2ms/step - loss: 0.1282 - accuracy: 0.9497 - val_loss: 0.2669 - val_accuracy: 0.9058\n",
            "Epoch 37/50\n",
            "300/300 [==============================] - 1s 2ms/step - loss: 0.1265 - accuracy: 0.9490 - val_loss: 0.2669 - val_accuracy: 0.9021\n",
            "Epoch 38/50\n",
            "300/300 [==============================] - 1s 2ms/step - loss: 0.1263 - accuracy: 0.9506 - val_loss: 0.2566 - val_accuracy: 0.9117\n",
            "Epoch 39/50\n",
            "300/300 [==============================] - 1s 2ms/step - loss: 0.1187 - accuracy: 0.9538 - val_loss: 0.2620 - val_accuracy: 0.9071\n",
            "Epoch 40/50\n",
            "300/300 [==============================] - 1s 2ms/step - loss: 0.1134 - accuracy: 0.9557 - val_loss: 0.2607 - val_accuracy: 0.9042\n",
            "Epoch 41/50\n",
            "300/300 [==============================] - 1s 2ms/step - loss: 0.1164 - accuracy: 0.9529 - val_loss: 0.2629 - val_accuracy: 0.9062\n",
            "Epoch 42/50\n",
            "300/300 [==============================] - 1s 2ms/step - loss: 0.1168 - accuracy: 0.9542 - val_loss: 0.2730 - val_accuracy: 0.9021\n",
            "Epoch 43/50\n",
            "300/300 [==============================] - 1s 2ms/step - loss: 0.1111 - accuracy: 0.9571 - val_loss: 0.2696 - val_accuracy: 0.9042\n",
            "Epoch 44/50\n",
            "300/300 [==============================] - 1s 2ms/step - loss: 0.1038 - accuracy: 0.9590 - val_loss: 0.2842 - val_accuracy: 0.9013\n",
            "Epoch 45/50\n",
            "300/300 [==============================] - 1s 2ms/step - loss: 0.0992 - accuracy: 0.9626 - val_loss: 0.2691 - val_accuracy: 0.9067\n",
            "Epoch 46/50\n",
            "300/300 [==============================] - 1s 2ms/step - loss: 0.1034 - accuracy: 0.9603 - val_loss: 0.2760 - val_accuracy: 0.9083\n",
            "Epoch 47/50\n",
            "300/300 [==============================] - 1s 2ms/step - loss: 0.0967 - accuracy: 0.9636 - val_loss: 0.2991 - val_accuracy: 0.9096\n",
            "Epoch 48/50\n",
            "300/300 [==============================] - 1s 2ms/step - loss: 0.0935 - accuracy: 0.9649 - val_loss: 0.2874 - val_accuracy: 0.9096\n",
            "Epoch 49/50\n",
            "300/300 [==============================] - 1s 2ms/step - loss: 0.0904 - accuracy: 0.9666 - val_loss: 0.3077 - val_accuracy: 0.9029\n",
            "Epoch 50/50\n",
            "300/300 [==============================] - 1s 2ms/step - loss: 0.0961 - accuracy: 0.9624 - val_loss: 0.3064 - val_accuracy: 0.9042\n"
          ],
          "name": "stdout"
        }
      ]
    },
    {
      "cell_type": "code",
      "metadata": {
        "id": "DKqfHYZOjjYM"
      },
      "source": [
        "def plot_losses(hist):\n",
        "    plt.plot(hist.history['loss'])\n",
        "    plt.plot(hist.history['val_loss'])\n",
        "    plt.title('Model Loss')\n",
        "    plt.ylabel('Loss')\n",
        "    plt.xlabel('Epoch')\n",
        "    plt.legend(['Train', 'Val'])\n",
        "    plt.show()\n",
        "def plot_accuracies(hist):\n",
        "    plt.plot(hist.history['accuracy'])\n",
        "    plt.plot(hist.history['val_accuracy'])\n",
        "    plt.title('Model Accuracy')\n",
        "    plt.ylabel('Accuracy')\n",
        "    plt.xlabel('Epoch')\n",
        "    plt.legend(['Train', 'Val'])\n",
        "    plt.show()"
      ],
      "execution_count": null,
      "outputs": []
    },
    {
      "cell_type": "code",
      "metadata": {
        "id": "txkzNQ07jjYR",
        "colab": {
          "base_uri": "https://localhost:8080/",
          "height": 573
        },
        "outputId": "d36bb42f-11d9-4bc6-885d-ea938b5b3f6b"
      },
      "source": [
        "# Plot your losses and accuracies\n",
        "plot_losses(hist)\n",
        "plot_accuracies(hist)"
      ],
      "execution_count": null,
      "outputs": [
        {
          "output_type": "display_data",
          "data": {
            "image/png": "[encoded data removed]",
            "text/plain": [
              "<Figure size 432x288 with 1 Axes>"
            ]
          },
          "metadata": {
            "tags": [],
            "needs_background": "light"
          }
        },
        {
          "output_type": "display_data",
          "data": {
            "image/png": "[encoded data removed]",
            "text/plain": [
              "<Figure size 432x288 with 1 Axes>"
            ]
          },
          "metadata": {
            "tags": [],
            "needs_background": "light"
          }
        }
      ]
    },
    {
      "cell_type": "markdown",
      "metadata": {
        "id": "WktCDSpCjcsO"
      },
      "source": [
        "### Question 2.2) Observation\n",
        "How did your neural network perform? What hyperparameters and optimizer did you choose?"
      ]
    },
    {
      "cell_type": "markdown",
      "metadata": {
        "id": "HNnkjhAijcsS"
      },
      "source": [
        "#### YOUR ANSWER HERE\n",
        "\n",
        "\n",
        "---\n",
        "\n",
        "I think my neural network performed fairly well. I used 'relu' activation on a 784 dense layer as well as a 784 input layer. Then, I used sigmoid activation as the model's output. For the optimizer, I chose 'adam' because it was what I was familiar with from the previous assignment.\n",
        "\n",
        "My model has an accuracy of about 90%. I used 'relu' activation for my dense layer because is faster and more precise than 'tanh' or 'sigmoid'"
      ]
    },
    {
      "cell_type": "markdown",
      "metadata": {
        "id": "tCUyOXpIKOys"
      },
      "source": [
        "### Question 2.3) Multi-class Neural Network"
      ]
    },
    {
      "cell_type": "markdown",
      "metadata": {
        "id": "exBaTpbhWF2d"
      },
      "source": [
        "Next, we will build a neural network toimplement a multi-class classification. Remember that your input size is (784,) and the output layer needs 10 nodes (also remember that there is a certain activation function that needs to be encorporated with the output layer). See if your model can get about 70% classification accuracy.\n",
        "\n",
        "**Hint: When compiling your model use loss=tf.keras.losses.[SparseCategoricalCrossentropy](https://www.tensorflow.org/api_docs/python/tf/keras/losses/SparseCategoricalCrossentropy) "
      ]
    },
    {
      "cell_type": "code",
      "metadata": {
        "id": "fz_g2Qm6DTgJ"
      },
      "source": [
        "from tensorflow.keras.layers import Input, Dense # only use these layers\n",
        "from tensorflow.keras.models import Model\n",
        "from tensorflow.keras.optimizers import * # you can use any optimizer\n",
        "\n",
        "# DEFINE YOUR MODEL HERE\n",
        "### YOUR CODE HERE ###\n",
        "input_layer = Input(shape=(784))\n",
        "x = Dense(784, input_dim=784, activation='tanh')(input_layer)\n",
        "x = Dense(784, activation='relu')(x)\n",
        "x = Dense(10, activation='softmax')(x)\n",
        "\n",
        "model = Model(input_layer, x)"
      ],
      "execution_count": null,
      "outputs": []
    },
    {
      "cell_type": "code",
      "metadata": {
        "id": "6HU26g16DxVG",
        "colab": {
          "base_uri": "https://localhost:8080/",
          "height": 289
        },
        "outputId": "e529f7a4-9ce3-48f3-ea73-738ab2b96cb6"
      },
      "source": [
        "# Show a summary of your model\n",
        "model.summary()"
      ],
      "execution_count": null,
      "outputs": [
        {
          "output_type": "stream",
          "text": [
            "Model: \"functional_3\"\n",
            "_________________________________________________________________\n",
            "Layer (type)                 Output Shape              Param #   \n",
            "=================================================================\n",
            "input_2 (InputLayer)         [(None, 784)]             0         \n",
            "_________________________________________________________________\n",
            "dense_2 (Dense)              (None, 784)               615440    \n",
            "_________________________________________________________________\n",
            "dense_3 (Dense)              (None, 784)               615440    \n",
            "_________________________________________________________________\n",
            "dense_4 (Dense)              (None, 10)                7850      \n",
            "=================================================================\n",
            "Total params: 1,238,730\n",
            "Trainable params: 1,238,730\n",
            "Non-trainable params: 0\n",
            "_________________________________________________________________\n"
          ],
          "name": "stdout"
        }
      ]
    },
    {
      "cell_type": "code",
      "metadata": {
        "id": "JDygMwK8JklW"
      },
      "source": [
        "# Compile your model with your chosen optimizer, binary cross entropy for the loss, and accuracy as the metric\n",
        "\n",
        "### YOUR CODE HERE ###\n",
        "model.compile(loss='sparse_categorical_crossentropy', optimizer='adam', metrics=['accuracy'])"
      ],
      "execution_count": null,
      "outputs": []
    },
    {
      "cell_type": "code",
      "metadata": {
        "id": "kG9WFebDHV-k",
        "colab": {
          "base_uri": "https://localhost:8080/",
          "height": 1000
        },
        "outputId": "383ce14a-262a-408d-98ec-3bb9a896b3c1"
      },
      "source": [
        "# Call fit on your model passing in the train_images, train_labels data above with validation split of 0.2 and train for 100 epochs\n",
        "\n",
        "### YOUR CODE HERE ###\n",
        "hist = model.fit(X, y, epochs=100, validation_split=0.2)"
      ],
      "execution_count": null,
      "outputs": [
        {
          "output_type": "stream",
          "text": [
            "Epoch 1/100\n",
            "300/300 [==============================] - 1s 3ms/step - loss: 0.4318 - accuracy: 0.8161 - val_loss: 0.3555 - val_accuracy: 0.8496\n",
            "Epoch 2/100\n",
            "300/300 [==============================] - 1s 2ms/step - loss: 0.3283 - accuracy: 0.8669 - val_loss: 0.3245 - val_accuracy: 0.8687\n",
            "Epoch 3/100\n",
            "300/300 [==============================] - 1s 2ms/step - loss: 0.2992 - accuracy: 0.8759 - val_loss: 0.2952 - val_accuracy: 0.8838\n",
            "Epoch 4/100\n",
            "300/300 [==============================] - 1s 2ms/step - loss: 0.2969 - accuracy: 0.8758 - val_loss: 0.3324 - val_accuracy: 0.8608\n",
            "Epoch 5/100\n",
            "300/300 [==============================] - 1s 2ms/step - loss: 0.2818 - accuracy: 0.8850 - val_loss: 0.3124 - val_accuracy: 0.8700\n",
            "Epoch 6/100\n",
            "300/300 [==============================] - 1s 2ms/step - loss: 0.2723 - accuracy: 0.8882 - val_loss: 0.3610 - val_accuracy: 0.8542\n",
            "Epoch 7/100\n",
            "300/300 [==============================] - 1s 2ms/step - loss: 0.2789 - accuracy: 0.8882 - val_loss: 0.2961 - val_accuracy: 0.8737\n",
            "Epoch 8/100\n",
            "300/300 [==============================] - 1s 2ms/step - loss: 0.2579 - accuracy: 0.8981 - val_loss: 0.3274 - val_accuracy: 0.8667\n",
            "Epoch 9/100\n",
            "300/300 [==============================] - 1s 2ms/step - loss: 0.2486 - accuracy: 0.8986 - val_loss: 0.3402 - val_accuracy: 0.8833\n",
            "Epoch 10/100\n",
            "300/300 [==============================] - 1s 2ms/step - loss: 0.2417 - accuracy: 0.9026 - val_loss: 0.2724 - val_accuracy: 0.8963\n",
            "Epoch 11/100\n",
            "300/300 [==============================] - 1s 2ms/step - loss: 0.2306 - accuracy: 0.9074 - val_loss: 0.2912 - val_accuracy: 0.8796\n",
            "Epoch 12/100\n",
            "300/300 [==============================] - 1s 2ms/step - loss: 0.2360 - accuracy: 0.9032 - val_loss: 0.3078 - val_accuracy: 0.8817\n",
            "Epoch 13/100\n",
            "300/300 [==============================] - 1s 2ms/step - loss: 0.2262 - accuracy: 0.9084 - val_loss: 0.2609 - val_accuracy: 0.8908\n",
            "Epoch 14/100\n",
            "300/300 [==============================] - 1s 2ms/step - loss: 0.2206 - accuracy: 0.9100 - val_loss: 0.2766 - val_accuracy: 0.8929\n",
            "Epoch 15/100\n",
            "300/300 [==============================] - 1s 2ms/step - loss: 0.2158 - accuracy: 0.9104 - val_loss: 0.3030 - val_accuracy: 0.8817\n",
            "Epoch 16/100\n",
            "300/300 [==============================] - 1s 2ms/step - loss: 0.2133 - accuracy: 0.9155 - val_loss: 0.2832 - val_accuracy: 0.8808\n",
            "Epoch 17/100\n",
            "300/300 [==============================] - 1s 2ms/step - loss: 0.2062 - accuracy: 0.9155 - val_loss: 0.2753 - val_accuracy: 0.8929\n",
            "Epoch 18/100\n",
            "300/300 [==============================] - 1s 2ms/step - loss: 0.2065 - accuracy: 0.9139 - val_loss: 0.2566 - val_accuracy: 0.9083\n",
            "Epoch 19/100\n",
            "300/300 [==============================] - 1s 2ms/step - loss: 0.1929 - accuracy: 0.9231 - val_loss: 0.3255 - val_accuracy: 0.8879\n",
            "Epoch 20/100\n",
            "300/300 [==============================] - 1s 2ms/step - loss: 0.2044 - accuracy: 0.9190 - val_loss: 0.2930 - val_accuracy: 0.8983\n",
            "Epoch 21/100\n",
            "300/300 [==============================] - 1s 2ms/step - loss: 0.1890 - accuracy: 0.9235 - val_loss: 0.2717 - val_accuracy: 0.9017\n",
            "Epoch 22/100\n",
            "300/300 [==============================] - 1s 2ms/step - loss: 0.1883 - accuracy: 0.9261 - val_loss: 0.3361 - val_accuracy: 0.8788\n",
            "Epoch 23/100\n",
            "300/300 [==============================] - 1s 2ms/step - loss: 0.1867 - accuracy: 0.9252 - val_loss: 0.2842 - val_accuracy: 0.9038\n",
            "Epoch 24/100\n",
            "300/300 [==============================] - 1s 2ms/step - loss: 0.1822 - accuracy: 0.9261 - val_loss: 0.2495 - val_accuracy: 0.9046\n",
            "Epoch 25/100\n",
            "300/300 [==============================] - 1s 2ms/step - loss: 0.1709 - accuracy: 0.9340 - val_loss: 0.2958 - val_accuracy: 0.9017\n",
            "Epoch 26/100\n",
            "300/300 [==============================] - 1s 2ms/step - loss: 0.1876 - accuracy: 0.9208 - val_loss: 0.2613 - val_accuracy: 0.9046\n",
            "Epoch 27/100\n",
            "300/300 [==============================] - 1s 2ms/step - loss: 0.1697 - accuracy: 0.9358 - val_loss: 0.2629 - val_accuracy: 0.9050\n",
            "Epoch 28/100\n",
            "300/300 [==============================] - 1s 2ms/step - loss: 0.1682 - accuracy: 0.9333 - val_loss: 0.3156 - val_accuracy: 0.8733\n",
            "Epoch 29/100\n",
            "300/300 [==============================] - 1s 2ms/step - loss: 0.1694 - accuracy: 0.9287 - val_loss: 0.3002 - val_accuracy: 0.8975\n",
            "Epoch 30/100\n",
            "300/300 [==============================] - 1s 2ms/step - loss: 0.1556 - accuracy: 0.9358 - val_loss: 0.3284 - val_accuracy: 0.8950\n",
            "Epoch 31/100\n",
            "300/300 [==============================] - 1s 2ms/step - loss: 0.1602 - accuracy: 0.9361 - val_loss: 0.2962 - val_accuracy: 0.9013\n",
            "Epoch 32/100\n",
            "300/300 [==============================] - 1s 2ms/step - loss: 0.1498 - accuracy: 0.9396 - val_loss: 0.3043 - val_accuracy: 0.9021\n",
            "Epoch 33/100\n",
            "300/300 [==============================] - 1s 2ms/step - loss: 0.1514 - accuracy: 0.9391 - val_loss: 0.2786 - val_accuracy: 0.9058\n",
            "Epoch 34/100\n",
            "300/300 [==============================] - 1s 2ms/step - loss: 0.1497 - accuracy: 0.9382 - val_loss: 0.3824 - val_accuracy: 0.8925\n",
            "Epoch 35/100\n",
            "300/300 [==============================] - 1s 2ms/step - loss: 0.1583 - accuracy: 0.9353 - val_loss: 0.2917 - val_accuracy: 0.9042\n",
            "Epoch 36/100\n",
            "300/300 [==============================] - 1s 2ms/step - loss: 0.1511 - accuracy: 0.9396 - val_loss: 0.3170 - val_accuracy: 0.8838\n",
            "Epoch 37/100\n",
            "300/300 [==============================] - 1s 2ms/step - loss: 0.1521 - accuracy: 0.9385 - val_loss: 0.2762 - val_accuracy: 0.9033\n",
            "Epoch 38/100\n",
            "300/300 [==============================] - 1s 2ms/step - loss: 0.1427 - accuracy: 0.9406 - val_loss: 0.3126 - val_accuracy: 0.8992\n",
            "Epoch 39/100\n",
            "300/300 [==============================] - 1s 2ms/step - loss: 0.1390 - accuracy: 0.9421 - val_loss: 0.2913 - val_accuracy: 0.9079\n",
            "Epoch 40/100\n",
            "300/300 [==============================] - 1s 2ms/step - loss: 0.1410 - accuracy: 0.9416 - val_loss: 0.3034 - val_accuracy: 0.9075\n",
            "Epoch 41/100\n",
            "300/300 [==============================] - 1s 2ms/step - loss: 0.1289 - accuracy: 0.9468 - val_loss: 0.3345 - val_accuracy: 0.9000\n",
            "Epoch 42/100\n",
            "300/300 [==============================] - 1s 2ms/step - loss: 0.1317 - accuracy: 0.9470 - val_loss: 0.3579 - val_accuracy: 0.8971\n",
            "Epoch 43/100\n",
            "300/300 [==============================] - 1s 2ms/step - loss: 0.1326 - accuracy: 0.9450 - val_loss: 0.3687 - val_accuracy: 0.8850\n",
            "Epoch 44/100\n",
            "300/300 [==============================] - 1s 2ms/step - loss: 0.1183 - accuracy: 0.9522 - val_loss: 0.3989 - val_accuracy: 0.8854\n",
            "Epoch 45/100\n",
            "300/300 [==============================] - 1s 2ms/step - loss: 0.1170 - accuracy: 0.9529 - val_loss: 0.3865 - val_accuracy: 0.8967\n",
            "Epoch 46/100\n",
            "300/300 [==============================] - 1s 2ms/step - loss: 0.1195 - accuracy: 0.9513 - val_loss: 0.3021 - val_accuracy: 0.9025\n",
            "Epoch 47/100\n",
            "300/300 [==============================] - 1s 2ms/step - loss: 0.1112 - accuracy: 0.9564 - val_loss: 0.3729 - val_accuracy: 0.9004\n",
            "Epoch 48/100\n",
            "300/300 [==============================] - 1s 2ms/step - loss: 0.1260 - accuracy: 0.9485 - val_loss: 0.3232 - val_accuracy: 0.9079\n",
            "Epoch 49/100\n",
            "300/300 [==============================] - 1s 2ms/step - loss: 0.1289 - accuracy: 0.9476 - val_loss: 0.3760 - val_accuracy: 0.8925\n",
            "Epoch 50/100\n",
            "300/300 [==============================] - 1s 2ms/step - loss: 0.1153 - accuracy: 0.9526 - val_loss: 0.3166 - val_accuracy: 0.9046\n",
            "Epoch 51/100\n",
            "300/300 [==============================] - 1s 2ms/step - loss: 0.1155 - accuracy: 0.9526 - val_loss: 0.3460 - val_accuracy: 0.9000\n",
            "Epoch 52/100\n",
            "300/300 [==============================] - 1s 2ms/step - loss: 0.1104 - accuracy: 0.9539 - val_loss: 0.3237 - val_accuracy: 0.9087\n",
            "Epoch 53/100\n",
            "300/300 [==============================] - 1s 2ms/step - loss: 0.1081 - accuracy: 0.9551 - val_loss: 0.3959 - val_accuracy: 0.8883\n",
            "Epoch 54/100\n",
            "300/300 [==============================] - 1s 2ms/step - loss: 0.1075 - accuracy: 0.9579 - val_loss: 0.3483 - val_accuracy: 0.9062\n",
            "Epoch 55/100\n",
            "300/300 [==============================] - 1s 2ms/step - loss: 0.1022 - accuracy: 0.9586 - val_loss: 0.3360 - val_accuracy: 0.9046\n",
            "Epoch 56/100\n",
            "300/300 [==============================] - 1s 2ms/step - loss: 0.0984 - accuracy: 0.9580 - val_loss: 0.3275 - val_accuracy: 0.9046\n",
            "Epoch 57/100\n",
            "300/300 [==============================] - 1s 2ms/step - loss: 0.0975 - accuracy: 0.9606 - val_loss: 0.3695 - val_accuracy: 0.9013\n",
            "Epoch 58/100\n",
            "300/300 [==============================] - 1s 2ms/step - loss: 0.1054 - accuracy: 0.9550 - val_loss: 0.3462 - val_accuracy: 0.9058\n",
            "Epoch 59/100\n",
            "300/300 [==============================] - 1s 2ms/step - loss: 0.0939 - accuracy: 0.9597 - val_loss: 0.3315 - val_accuracy: 0.9079\n",
            "Epoch 60/100\n",
            "300/300 [==============================] - 1s 2ms/step - loss: 0.0973 - accuracy: 0.9592 - val_loss: 0.3557 - val_accuracy: 0.9092\n",
            "Epoch 61/100\n",
            "300/300 [==============================] - 1s 2ms/step - loss: 0.1037 - accuracy: 0.9564 - val_loss: 0.3321 - val_accuracy: 0.9025\n",
            "Epoch 62/100\n",
            "300/300 [==============================] - 1s 2ms/step - loss: 0.0930 - accuracy: 0.9625 - val_loss: 0.3435 - val_accuracy: 0.9050\n",
            "Epoch 63/100\n",
            "300/300 [==============================] - 1s 2ms/step - loss: 0.0868 - accuracy: 0.9661 - val_loss: 0.4014 - val_accuracy: 0.8988\n",
            "Epoch 64/100\n",
            "300/300 [==============================] - 1s 2ms/step - loss: 0.0929 - accuracy: 0.9626 - val_loss: 0.3697 - val_accuracy: 0.9050\n",
            "Epoch 65/100\n",
            "300/300 [==============================] - 1s 2ms/step - loss: 0.0874 - accuracy: 0.9625 - val_loss: 0.3720 - val_accuracy: 0.9058\n",
            "Epoch 66/100\n",
            "300/300 [==============================] - 1s 2ms/step - loss: 0.1008 - accuracy: 0.9584 - val_loss: 0.3481 - val_accuracy: 0.9013\n",
            "Epoch 67/100\n",
            "300/300 [==============================] - 1s 2ms/step - loss: 0.0865 - accuracy: 0.9641 - val_loss: 0.4376 - val_accuracy: 0.8975\n",
            "Epoch 68/100\n",
            "300/300 [==============================] - 1s 2ms/step - loss: 0.0807 - accuracy: 0.9667 - val_loss: 0.3761 - val_accuracy: 0.9067\n",
            "Epoch 69/100\n",
            "300/300 [==============================] - 1s 2ms/step - loss: 0.0876 - accuracy: 0.9640 - val_loss: 0.3768 - val_accuracy: 0.9046\n",
            "Epoch 70/100\n",
            "300/300 [==============================] - 1s 2ms/step - loss: 0.0836 - accuracy: 0.9632 - val_loss: 0.4092 - val_accuracy: 0.8958\n",
            "Epoch 71/100\n",
            "300/300 [==============================] - 1s 2ms/step - loss: 0.0823 - accuracy: 0.9657 - val_loss: 0.3540 - val_accuracy: 0.9004\n",
            "Epoch 72/100\n",
            "300/300 [==============================] - 1s 2ms/step - loss: 0.0760 - accuracy: 0.9694 - val_loss: 0.3800 - val_accuracy: 0.9013\n",
            "Epoch 73/100\n",
            "300/300 [==============================] - 1s 2ms/step - loss: 0.0770 - accuracy: 0.9697 - val_loss: 0.4205 - val_accuracy: 0.8921\n",
            "Epoch 74/100\n",
            "300/300 [==============================] - 1s 2ms/step - loss: 0.0858 - accuracy: 0.9669 - val_loss: 0.4013 - val_accuracy: 0.9000\n",
            "Epoch 75/100\n",
            "300/300 [==============================] - 1s 2ms/step - loss: 0.0842 - accuracy: 0.9655 - val_loss: 0.4548 - val_accuracy: 0.8921\n",
            "Epoch 76/100\n",
            "300/300 [==============================] - 1s 2ms/step - loss: 0.0884 - accuracy: 0.9653 - val_loss: 0.3878 - val_accuracy: 0.9033\n",
            "Epoch 77/100\n",
            "300/300 [==============================] - 1s 2ms/step - loss: 0.0932 - accuracy: 0.9617 - val_loss: 0.3981 - val_accuracy: 0.9071\n",
            "Epoch 78/100\n",
            "300/300 [==============================] - 1s 2ms/step - loss: 0.0690 - accuracy: 0.9739 - val_loss: 0.4299 - val_accuracy: 0.9021\n",
            "Epoch 79/100\n",
            "300/300 [==============================] - 1s 2ms/step - loss: 0.0830 - accuracy: 0.9670 - val_loss: 0.5476 - val_accuracy: 0.8642\n",
            "Epoch 80/100\n",
            "300/300 [==============================] - 1s 2ms/step - loss: 0.0776 - accuracy: 0.9699 - val_loss: 0.4164 - val_accuracy: 0.9038\n",
            "Epoch 81/100\n",
            "300/300 [==============================] - 1s 2ms/step - loss: 0.0580 - accuracy: 0.9761 - val_loss: 0.4187 - val_accuracy: 0.9083\n",
            "Epoch 82/100\n",
            "300/300 [==============================] - 1s 2ms/step - loss: 0.0624 - accuracy: 0.9769 - val_loss: 0.4023 - val_accuracy: 0.9129\n",
            "Epoch 83/100\n",
            "300/300 [==============================] - 1s 2ms/step - loss: 0.0652 - accuracy: 0.9731 - val_loss: 0.3803 - val_accuracy: 0.8950\n",
            "Epoch 84/100\n",
            "300/300 [==============================] - 1s 2ms/step - loss: 0.0703 - accuracy: 0.9711 - val_loss: 0.3990 - val_accuracy: 0.9092\n",
            "Epoch 85/100\n",
            "300/300 [==============================] - 1s 2ms/step - loss: 0.0761 - accuracy: 0.9708 - val_loss: 0.5845 - val_accuracy: 0.8629\n",
            "Epoch 86/100\n",
            "300/300 [==============================] - 1s 2ms/step - loss: 0.0743 - accuracy: 0.9699 - val_loss: 0.3998 - val_accuracy: 0.9008\n",
            "Epoch 87/100\n",
            "300/300 [==============================] - 1s 2ms/step - loss: 0.0777 - accuracy: 0.9683 - val_loss: 0.3639 - val_accuracy: 0.9071\n",
            "Epoch 88/100\n",
            "300/300 [==============================] - 1s 2ms/step - loss: 0.0668 - accuracy: 0.9748 - val_loss: 0.4040 - val_accuracy: 0.9087\n",
            "Epoch 89/100\n",
            "300/300 [==============================] - 1s 2ms/step - loss: 0.0666 - accuracy: 0.9727 - val_loss: 0.4061 - val_accuracy: 0.8992\n",
            "Epoch 90/100\n",
            "300/300 [==============================] - 1s 2ms/step - loss: 0.0655 - accuracy: 0.9737 - val_loss: 0.4778 - val_accuracy: 0.8963\n",
            "Epoch 91/100\n",
            "300/300 [==============================] - 1s 2ms/step - loss: 0.0651 - accuracy: 0.9742 - val_loss: 0.4448 - val_accuracy: 0.8946\n",
            "Epoch 92/100\n",
            "300/300 [==============================] - 1s 2ms/step - loss: 0.0586 - accuracy: 0.9765 - val_loss: 0.4149 - val_accuracy: 0.9046\n",
            "Epoch 93/100\n",
            "300/300 [==============================] - 1s 2ms/step - loss: 0.0768 - accuracy: 0.9692 - val_loss: 0.4223 - val_accuracy: 0.9067\n",
            "Epoch 94/100\n",
            "300/300 [==============================] - 1s 2ms/step - loss: 0.0640 - accuracy: 0.9755 - val_loss: 0.4472 - val_accuracy: 0.8963\n",
            "Epoch 95/100\n",
            "300/300 [==============================] - 1s 2ms/step - loss: 0.0712 - accuracy: 0.9723 - val_loss: 0.4111 - val_accuracy: 0.9038\n",
            "Epoch 96/100\n",
            "300/300 [==============================] - 1s 2ms/step - loss: 0.0603 - accuracy: 0.9753 - val_loss: 0.4293 - val_accuracy: 0.9038\n",
            "Epoch 97/100\n",
            "300/300 [==============================] - 1s 2ms/step - loss: 0.0548 - accuracy: 0.9790 - val_loss: 0.4355 - val_accuracy: 0.9058\n",
            "Epoch 98/100\n",
            "300/300 [==============================] - 1s 2ms/step - loss: 0.0668 - accuracy: 0.9734 - val_loss: 0.3941 - val_accuracy: 0.9021\n",
            "Epoch 99/100\n",
            "300/300 [==============================] - 1s 2ms/step - loss: 0.0582 - accuracy: 0.9791 - val_loss: 0.4040 - val_accuracy: 0.9017\n",
            "Epoch 100/100\n",
            "300/300 [==============================] - 1s 2ms/step - loss: 0.0584 - accuracy: 0.9768 - val_loss: 0.4964 - val_accuracy: 0.8963\n"
          ],
          "name": "stdout"
        }
      ]
    },
    {
      "cell_type": "code",
      "metadata": {
        "id": "okB05Mf0Hg9S"
      },
      "source": [
        "def plot_losses(hist):\n",
        "    plt.plot(hist.history['loss'])\n",
        "    plt.plot(hist.history['val_loss'])\n",
        "    plt.title('Model Loss')\n",
        "    plt.ylabel('Loss')\n",
        "    plt.xlabel('Epoch')\n",
        "    plt.legend(['Train', 'Val'])\n",
        "    plt.show()\n",
        "def plot_accuracies(hist):\n",
        "    plt.plot(hist.history['accuracy'])\n",
        "    plt.plot(hist.history['val_accuracy'])\n",
        "    plt.title('Model Accuracy')\n",
        "    plt.ylabel('Accuracy')\n",
        "    plt.xlabel('Epoch')\n",
        "    plt.legend(['Train', 'Val'])\n",
        "    plt.show()"
      ],
      "execution_count": null,
      "outputs": []
    },
    {
      "cell_type": "code",
      "metadata": {
        "id": "kwLRaQ1KMuOl",
        "colab": {
          "base_uri": "https://localhost:8080/",
          "height": 573
        },
        "outputId": "e813b75d-4822-4045-b364-c04f20c88944"
      },
      "source": [
        "# Plot your losses and accuracies\n",
        "plot_losses(hist)\n",
        "plot_accuracies(hist)"
      ],
      "execution_count": null,
      "outputs": [
        {
          "output_type": "display_data",
          "data": {
            "image/png": "[encoded data removed]",
            "text/plain": [
              "<Figure size 432x288 with 1 Axes>"
            ]
          },
          "metadata": {
            "tags": [],
            "needs_background": "light"
          }
        },
        {
          "output_type": "display_data",
          "data": {
            "image/png": "[encoded data removed]",
            "text/plain": [
              "<Figure size 432x288 with 1 Axes>"
            ]
          },
          "metadata": {
            "tags": [],
            "needs_background": "light"
          }
        }
      ]
    },
    {
      "cell_type": "markdown",
      "metadata": {
        "id": "aI9sQv21VXzI"
      },
      "source": [
        "### Question 2.4) Observation\n",
        "How did your neural network perform? What hyperparameters and optimizer did you choose?"
      ]
    },
    {
      "cell_type": "markdown",
      "metadata": {
        "id": "wnsDckNTWWnI"
      },
      "source": [
        "#### YOUR ANSWER HERE\n",
        "\n",
        "---\n",
        "Similar to the other network, I worked with 'relu' activation on the first dense layer and outputed using 'softmax' activation. Since I believe that relu activation is a more powerful activation function, I expected the model to do well, which it did with about a 90% accuracy. \n",
        "\n",
        "Once again, I used the 'adam' optimizer for familiarity."
      ]
    },
    {
      "cell_type": "markdown",
      "metadata": {
        "_uuid": "bca889c929920fd204e28dd8ba3bf747abfe4866",
        "id": "HwHNu13zLhbq"
      },
      "source": [
        "## Question 3: Building a Convolutional Neural Network\n",
        "\n",
        "In this exercise, we will build a classifier model that is able to distinguish between 10 different classes of images - airplanes, cars, birds, cats, deer, dogs, frogs, horses, ships, and trucks. We will follow these steps:\n",
        "\n",
        "1. Explore the example data\n",
        "2. Build a small convnet to solve our classification problem\n",
        "3. Evaluate training and validation accuracy"
      ]
    },
    {
      "cell_type": "markdown",
      "metadata": {
        "id": "rxedzNz3Lhbq"
      },
      "source": [
        "###  Data Exploration and Preparation\n",
        "\n",
        "We'll start by downloading the CIFAR-10 dataset from Keras.\n",
        "\n",
        "This is a link to the dataset documentation:\n",
        "https://keras.io/datasets/#cifar10-small-image-classification\n",
        "\n",
        "And a link to the dataset source:\n",
        "https://www.cs.toronto.edu/~kriz/cifar.html\n",
        "\n",
        "Be sure to set your Runtime environment to include a GPU, as it will speed up the training considerably (this time that's important!)."
      ]
    },
    {
      "cell_type": "markdown",
      "metadata": {
        "id": "hT9YYUNlLhbr"
      },
      "source": [
        "#### Loading data into local variables"
      ]
    },
    {
      "cell_type": "code",
      "metadata": {
        "id": "qIPX5X2VLhbs",
        "colab": {
          "base_uri": "https://localhost:8080/",
          "height": 51
        },
        "outputId": "8349ce0d-eb43-4d48-d110-84258dfe5fea"
      },
      "source": [
        "from keras.datasets import cifar10\n",
        "\n",
        "# Fetch the data:\n",
        "(X, y), (_, _) = cifar10.load_data()"
      ],
      "execution_count": null,
      "outputs": [
        {
          "output_type": "stream",
          "text": [
            "Downloading data from https://www.cs.toronto.edu/~kriz/cifar-10-python.tar.gz\n",
            "170500096/170498071 [==============================] - 6s 0us/step\n"
          ],
          "name": "stdout"
        }
      ]
    },
    {
      "cell_type": "markdown",
      "metadata": {
        "_uuid": "892a9fe20cb70273b84d120b69e8d8cef65c7e80",
        "id": "sI_-5NB-Lhb3"
      },
      "source": [
        "####  Import needed functions and libraries"
      ]
    },
    {
      "cell_type": "code",
      "metadata": {
        "_uuid": "743b574dc8902f9376b0293208139192ed5717d1",
        "id": "z19bVm7o9zeu"
      },
      "source": [
        "# Ignore the warnings - Otherwise, TensorFlow tends to innundate one with far too many warnings.\n",
        "import warnings\n",
        "warnings.filterwarnings('always')\n",
        "warnings.filterwarnings('ignore')\n",
        "\n",
        "# For matrix operations and dataframes.\n",
        "import numpy as np\n",
        "\n",
        "# Data visualizaton.\n",
        "import matplotlib.pyplot as plt\n",
        "from matplotlib import style\n",
        "import seaborn as sns\n",
        "import random as rn\n",
        " \n",
        "# Configure some defaults.\n",
        "%matplotlib inline  \n",
        "style.use('fivethirtyeight')\n",
        "sns.set(style='whitegrid',color_codes=True)\n",
        "\n",
        "# Useful deep learning functions.\n",
        "from tensorflow.keras import backend as K\n",
        "from tensorflow.keras.models import Sequential\n",
        "from tensorflow.keras.layers import Dense\n",
        "from tensorflow.keras.optimizers import Adam, SGD, Adagrad, Adadelta, RMSprop \n",
        "from tensorflow.keras.utils import to_categorical\n",
        "from tensorflow.keras.layers import Dropout, Flatten, Activation\n",
        "from tensorflow.keras.layers import Conv2D, MaxPooling2D\n",
        "\n",
        "# Powerful deep learning module.\n",
        "import tensorflow as tf\n",
        "\n",
        "# For dealing with data.\n",
        "import numpy as np  "
      ],
      "execution_count": null,
      "outputs": []
    },
    {
      "cell_type": "markdown",
      "metadata": {
        "_uuid": "c24f32b5ef905f9c4df2a020be4419a77c80237e",
        "id": "892A1wjvLhb7"
      },
      "source": [
        "#### Data Preparation & Exploration\n",
        "Let's take a look at a few of these images. Rerun this cell multiple times to see different images for each class.\n",
        "\n",
        "You may notice that these images look low fidelity, which is because they are! As we increase our image size, we also increase our model complexity. What's important is that our classes are still distinguishable from each other."
      ]
    },
    {
      "cell_type": "code",
      "metadata": {
        "_uuid": "a27c478fcac8675aadd40f96fd144a805475b681",
        "id": "gPolpADLYv9p",
        "scrolled": true,
        "colab": {
          "base_uri": "https://localhost:8080/",
          "height": 367
        },
        "outputId": "d853ee8c-ac3b-4aee-8763-3fb8fbf87969"
      },
      "source": [
        "fig, ax = plt.subplots(2, 5)\n",
        "fig.set_size_inches(10, 6)\n",
        "\n",
        "for i in range(2):\n",
        "    for j in range(5):\n",
        "        c = j + 5*i # Class counter\n",
        "        l = np.random.choice(np.where(y == c)[0], 1)[0] # Get a random image from class c\n",
        "        ax[i, j].imshow(X[l])\n",
        "        ax[i, j].set_title('Class: ' + str(y[l]))\n",
        "        # Hide grid lines\n",
        "        ax[i, j].grid(False)\n",
        "        # Hide axes ticks\n",
        "        ax[i, j].set_xticks([])\n",
        "        ax[i, j].set_yticks([])\n",
        "        \n",
        "plt.tight_layout()"
      ],
      "execution_count": null,
      "outputs": [
        {
          "output_type": "display_data",
          "data": {
            "image/png": "[encoded data removed]",
            "text/plain": [
              "<Figure size 720x432 with 10 Axes>"
            ]
          },
          "metadata": {
            "tags": []
          }
        }
      ]
    },
    {
      "cell_type": "markdown",
      "metadata": {
        "id": "vddd-xejqVV7"
      },
      "source": [
        "#### Let's take a look at the format of our data"
      ]
    },
    {
      "cell_type": "code",
      "metadata": {
        "id": "aSmQVBA7qaxd",
        "colab": {
          "base_uri": "https://localhost:8080/",
          "height": 51
        },
        "outputId": "f6733404-bdd7-4500-aab8-aae4caa96345"
      },
      "source": [
        "print('X (images)', X.shape)\n",
        "print('y (classes)', y.shape)"
      ],
      "execution_count": null,
      "outputs": [
        {
          "output_type": "stream",
          "text": [
            "X (images) (50000, 32, 32, 3)\n",
            "y (classes) (50000, 1)\n"
          ],
          "name": "stdout"
        }
      ]
    },
    {
      "cell_type": "markdown",
      "metadata": {
        "id": "ytuPNJQWqkZX"
      },
      "source": [
        "We can see that we have 50,000 samples, where each images is 32 by 32 pixels with 3 color channels: RGB.\n",
        "\n",
        "For each of these images, we have a single label for which class they each belong to."
      ]
    },
    {
      "cell_type": "markdown",
      "metadata": {
        "_uuid": "77ec9e39e572f004918ea99a6866ee3a06c68324",
        "id": "NCS6ejuoLhcH"
      },
      "source": [
        "#### One-hot encode the labels, and normalize the data\n",
        "\n",
        "Similarly to previous exercises, we want to one hot encode our class labels. We also want to normalize our image data similarly to the previous question."
      ]
    },
    {
      "cell_type": "code",
      "metadata": {
        "id": "DT_F8m-vLhcI"
      },
      "source": [
        "# One-hot encode those integer values of class labels\n",
        "### YOUR CODE HERE ###\n",
        "y = to_categorical(y, 10)\n",
        "\n",
        "# Normalize all entries to the interval [0, 1]\n",
        "### YOUR CODE HERE ###\n",
        "X = X / 255."
      ],
      "execution_count": null,
      "outputs": []
    },
    {
      "cell_type": "markdown",
      "metadata": {
        "_uuid": "b8952f9ac2af66841a9c000126de56b44301d3ce",
        "id": "H9PP4rQhLhdD"
      },
      "source": [
        "### Question 3.1)\n",
        "Create your own deep learning architecture, and train it on the dataset above. If you're unsure where to start, begin by referencing the in class exercises. \n",
        "\n",
        "One suggestion is to add several convolution layers each followed by a maxpooling layer. Towards the end you can add one or more fully connected layers. Dropout layers are often useful after each fully connected layer for overfitting, and you can try experimenting with that parameter. Your model should be able to reach **70% validation accuracy**.\n",
        "\n",
        "You are responsible for your model architecture, hyperparameters, and optimizer. \n",
        "\n",
        "**HOWEVER, you are limited to a maximum of 50 epochs and 500,000 model parameters! You will lose points for exceeding these limits.**"
      ]
    },
    {
      "cell_type": "code",
      "metadata": {
        "id": "mVjSUo_9LhdE"
      },
      "source": [
        "# This is where we define the architecture of our deep neural network.\n",
        "model = Sequential()\n",
        "\n",
        "### YOUR CODE HERE ###\n",
        "model.add(Conv2D(filters = 32,      \n",
        "                 kernel_size = (3, 3), \n",
        "                 padding = 'Same',\n",
        "                 activation = 'relu', \n",
        "                 input_shape = (32, 32, 3)))\n",
        "\n",
        "model.add(MaxPooling2D(pool_size = (2, 2)))\n",
        "\n",
        "model.add(Conv2D(filters = 64,      \n",
        "                 kernel_size = (3, 3), \n",
        "                 padding = 'Same',\n",
        "                 activation = 'relu'))\n",
        "\n",
        "model.add(MaxPooling2D(pool_size = (2, 2)))\n",
        "\n",
        "model.add(Conv2D(filters = 64,      \n",
        "                 kernel_size = (3, 3), \n",
        "                 padding = 'Same',\n",
        "                 activation = 'relu'))\n",
        "\n",
        "model.add(MaxPooling2D(pool_size = (2, 2)))\n",
        "\n",
        "model.add(Flatten())\n",
        "\n",
        "model.add(Dense(424, activation = 'relu'))  \n",
        "\n",
        "model.add(Dense(10, activation = \"softmax\"))"
      ],
      "execution_count": null,
      "outputs": []
    },
    {
      "cell_type": "code",
      "metadata": {
        "id": "PO003fD15wop"
      },
      "source": [
        "# A batch is the size of each training chunk. We're implementing batch gradient descent, which is in between\n",
        "# stochastic gradient descent and full gradient descent.\n",
        "batchsize = 100 ### YOUR CODE HERE ###\n",
        "\n",
        "# Each epoch goes through the entire training set once\n",
        "epochs = 50 ### YOUR CODE HERE ### MAXIMUM OF 50!"
      ],
      "execution_count": null,
      "outputs": []
    },
    {
      "cell_type": "code",
      "metadata": {
        "id": "o4reatYS5edV"
      },
      "source": [
        "opt = 'adam' ### YOUR CODE HERE ###\n",
        "\n",
        "model.compile(optimizer = opt,\n",
        "              loss = 'categorical_crossentropy',\n",
        "              metrics = ['accuracy'])"
      ],
      "execution_count": null,
      "outputs": []
    },
    {
      "cell_type": "code",
      "metadata": {
        "id": "0FDudYr552rv",
        "colab": {
          "base_uri": "https://localhost:8080/",
          "height": 459
        },
        "outputId": "d54686a6-759e-4517-ace2-756139293692"
      },
      "source": [
        "model.summary()\n",
        "# MAXIMUM OF 500,000 PARAMETERS!"
      ],
      "execution_count": null,
      "outputs": [
        {
          "output_type": "stream",
          "text": [
            "Model: \"sequential\"\n",
            "_________________________________________________________________\n",
            "Layer (type)                 Output Shape              Param #   \n",
            "=================================================================\n",
            "conv2d (Conv2D)              (None, 32, 32, 32)        896       \n",
            "_________________________________________________________________\n",
            "max_pooling2d (MaxPooling2D) (None, 16, 16, 32)        0         \n",
            "_________________________________________________________________\n",
            "conv2d_1 (Conv2D)            (None, 16, 16, 64)        18496     \n",
            "_________________________________________________________________\n",
            "max_pooling2d_1 (MaxPooling2 (None, 8, 8, 64)          0         \n",
            "_________________________________________________________________\n",
            "conv2d_2 (Conv2D)            (None, 8, 8, 64)          36928     \n",
            "_________________________________________________________________\n",
            "max_pooling2d_2 (MaxPooling2 (None, 4, 4, 64)          0         \n",
            "_________________________________________________________________\n",
            "flatten (Flatten)            (None, 1024)              0         \n",
            "_________________________________________________________________\n",
            "dense_5 (Dense)              (None, 424)               434600    \n",
            "_________________________________________________________________\n",
            "dense_6 (Dense)              (None, 10)                4250      \n",
            "=================================================================\n",
            "Total params: 495,170\n",
            "Trainable params: 495,170\n",
            "Non-trainable params: 0\n",
            "_________________________________________________________________\n"
          ],
          "name": "stdout"
        }
      ]
    },
    {
      "cell_type": "code",
      "metadata": {
        "id": "kK7nvHYr6P4J",
        "colab": {
          "base_uri": "https://localhost:8080/",
          "height": 1000
        },
        "outputId": "57519a5e-8060-4a60-f884-9b7b0ac6774a"
      },
      "source": [
        "history = model.fit(X, \n",
        "                    y,\n",
        "                    batch_size = batchsize,\n",
        "                    epochs = epochs, \n",
        "                    validation_split = 0.2, # DON'T CHANGE validation_split!\n",
        "                    verbose = 1)"
      ],
      "execution_count": null,
      "outputs": [
        {
          "output_type": "stream",
          "text": [
            "Epoch 1/50\n",
            "400/400 [==============================] - 2s 6ms/step - loss: 1.5494 - accuracy: 0.4367 - val_loss: 1.3329 - val_accuracy: 0.5233\n",
            "Epoch 2/50\n",
            "400/400 [==============================] - 2s 5ms/step - loss: 1.1465 - accuracy: 0.5913 - val_loss: 1.0575 - val_accuracy: 0.6221\n",
            "Epoch 3/50\n",
            "400/400 [==============================] - 2s 5ms/step - loss: 0.9656 - accuracy: 0.6599 - val_loss: 0.9956 - val_accuracy: 0.6487\n",
            "Epoch 4/50\n",
            "400/400 [==============================] - 2s 5ms/step - loss: 0.8490 - accuracy: 0.7028 - val_loss: 0.8909 - val_accuracy: 0.6939\n",
            "Epoch 5/50\n",
            "400/400 [==============================] - 2s 5ms/step - loss: 0.7480 - accuracy: 0.7340 - val_loss: 0.8481 - val_accuracy: 0.7120\n",
            "Epoch 6/50\n",
            "400/400 [==============================] - 2s 5ms/step - loss: 0.6683 - accuracy: 0.7652 - val_loss: 0.8421 - val_accuracy: 0.7211\n",
            "Epoch 7/50\n",
            "400/400 [==============================] - 2s 5ms/step - loss: 0.5965 - accuracy: 0.7907 - val_loss: 0.8244 - val_accuracy: 0.7296\n",
            "Epoch 8/50\n",
            "400/400 [==============================] - 2s 5ms/step - loss: 0.5260 - accuracy: 0.8167 - val_loss: 0.7998 - val_accuracy: 0.7353\n",
            "Epoch 9/50\n",
            "400/400 [==============================] - 2s 5ms/step - loss: 0.4626 - accuracy: 0.8367 - val_loss: 0.8070 - val_accuracy: 0.7470\n",
            "Epoch 10/50\n",
            "400/400 [==============================] - 2s 5ms/step - loss: 0.3998 - accuracy: 0.8600 - val_loss: 0.8200 - val_accuracy: 0.7414\n",
            "Epoch 11/50\n",
            "400/400 [==============================] - 2s 5ms/step - loss: 0.3337 - accuracy: 0.8841 - val_loss: 0.8718 - val_accuracy: 0.7417\n",
            "Epoch 12/50\n",
            "400/400 [==============================] - 2s 5ms/step - loss: 0.2793 - accuracy: 0.9036 - val_loss: 0.9302 - val_accuracy: 0.7379\n",
            "Epoch 13/50\n",
            "400/400 [==============================] - 2s 5ms/step - loss: 0.2281 - accuracy: 0.9207 - val_loss: 1.0147 - val_accuracy: 0.7414\n",
            "Epoch 14/50\n",
            "400/400 [==============================] - 2s 5ms/step - loss: 0.1839 - accuracy: 0.9382 - val_loss: 1.0654 - val_accuracy: 0.7459\n",
            "Epoch 15/50\n",
            "400/400 [==============================] - 2s 5ms/step - loss: 0.1488 - accuracy: 0.9493 - val_loss: 1.1347 - val_accuracy: 0.7317\n",
            "Epoch 16/50\n",
            "400/400 [==============================] - 2s 5ms/step - loss: 0.1250 - accuracy: 0.9569 - val_loss: 1.2076 - val_accuracy: 0.7379\n",
            "Epoch 17/50\n",
            "400/400 [==============================] - 2s 5ms/step - loss: 0.0998 - accuracy: 0.9664 - val_loss: 1.3273 - val_accuracy: 0.7405\n",
            "Epoch 18/50\n",
            "400/400 [==============================] - 2s 5ms/step - loss: 0.0889 - accuracy: 0.9699 - val_loss: 1.3646 - val_accuracy: 0.7421\n",
            "Epoch 19/50\n",
            "400/400 [==============================] - 2s 5ms/step - loss: 0.0823 - accuracy: 0.9717 - val_loss: 1.4734 - val_accuracy: 0.7268\n",
            "Epoch 20/50\n",
            "400/400 [==============================] - 2s 5ms/step - loss: 0.0788 - accuracy: 0.9719 - val_loss: 1.5012 - val_accuracy: 0.7382\n",
            "Epoch 21/50\n",
            "400/400 [==============================] - 2s 5ms/step - loss: 0.0738 - accuracy: 0.9746 - val_loss: 1.6655 - val_accuracy: 0.7155\n",
            "Epoch 22/50\n",
            "400/400 [==============================] - 2s 5ms/step - loss: 0.0770 - accuracy: 0.9736 - val_loss: 1.6599 - val_accuracy: 0.7323\n",
            "Epoch 23/50\n",
            "400/400 [==============================] - 2s 5ms/step - loss: 0.0674 - accuracy: 0.9761 - val_loss: 1.7092 - val_accuracy: 0.7256\n",
            "Epoch 24/50\n",
            "400/400 [==============================] - 2s 5ms/step - loss: 0.0537 - accuracy: 0.9815 - val_loss: 1.7224 - val_accuracy: 0.7376\n",
            "Epoch 25/50\n",
            "400/400 [==============================] - 2s 5ms/step - loss: 0.0652 - accuracy: 0.9764 - val_loss: 1.7266 - val_accuracy: 0.7341\n",
            "Epoch 26/50\n",
            "400/400 [==============================] - 2s 5ms/step - loss: 0.0504 - accuracy: 0.9829 - val_loss: 1.8444 - val_accuracy: 0.7284\n",
            "Epoch 27/50\n",
            "400/400 [==============================] - 2s 5ms/step - loss: 0.0525 - accuracy: 0.9816 - val_loss: 1.9021 - val_accuracy: 0.7337\n",
            "Epoch 28/50\n",
            "400/400 [==============================] - 2s 6ms/step - loss: 0.0610 - accuracy: 0.9789 - val_loss: 1.8922 - val_accuracy: 0.7315\n",
            "Epoch 29/50\n",
            "400/400 [==============================] - 2s 5ms/step - loss: 0.0567 - accuracy: 0.9797 - val_loss: 2.0006 - val_accuracy: 0.7250\n",
            "Epoch 30/50\n",
            "400/400 [==============================] - 2s 6ms/step - loss: 0.0519 - accuracy: 0.9819 - val_loss: 2.0478 - val_accuracy: 0.7304\n",
            "Epoch 31/50\n",
            "400/400 [==============================] - 2s 6ms/step - loss: 0.0540 - accuracy: 0.9818 - val_loss: 2.1147 - val_accuracy: 0.7213\n",
            "Epoch 32/50\n",
            "400/400 [==============================] - 2s 5ms/step - loss: 0.0429 - accuracy: 0.9856 - val_loss: 2.0334 - val_accuracy: 0.7333\n",
            "Epoch 33/50\n",
            "400/400 [==============================] - 2s 5ms/step - loss: 0.0526 - accuracy: 0.9819 - val_loss: 2.1514 - val_accuracy: 0.7276\n",
            "Epoch 34/50\n",
            "400/400 [==============================] - 2s 5ms/step - loss: 0.0412 - accuracy: 0.9858 - val_loss: 2.2051 - val_accuracy: 0.7269\n",
            "Epoch 35/50\n",
            "400/400 [==============================] - 2s 5ms/step - loss: 0.0556 - accuracy: 0.9809 - val_loss: 2.1952 - val_accuracy: 0.7298\n",
            "Epoch 36/50\n",
            "400/400 [==============================] - 2s 5ms/step - loss: 0.0475 - accuracy: 0.9836 - val_loss: 2.2853 - val_accuracy: 0.7216\n",
            "Epoch 37/50\n",
            "400/400 [==============================] - 2s 5ms/step - loss: 0.0438 - accuracy: 0.9850 - val_loss: 2.3442 - val_accuracy: 0.7319\n",
            "Epoch 38/50\n",
            "400/400 [==============================] - 2s 5ms/step - loss: 0.0450 - accuracy: 0.9854 - val_loss: 2.2573 - val_accuracy: 0.7325\n",
            "Epoch 39/50\n",
            "400/400 [==============================] - 2s 5ms/step - loss: 0.0473 - accuracy: 0.9841 - val_loss: 2.2906 - val_accuracy: 0.7170\n",
            "Epoch 40/50\n",
            "400/400 [==============================] - 2s 5ms/step - loss: 0.0540 - accuracy: 0.9821 - val_loss: 2.2717 - val_accuracy: 0.7094\n",
            "Epoch 41/50\n",
            "400/400 [==============================] - 2s 5ms/step - loss: 0.0375 - accuracy: 0.9871 - val_loss: 2.5241 - val_accuracy: 0.7143\n",
            "Epoch 42/50\n",
            "400/400 [==============================] - 2s 5ms/step - loss: 0.0451 - accuracy: 0.9848 - val_loss: 2.3195 - val_accuracy: 0.7281\n",
            "Epoch 43/50\n",
            "400/400 [==============================] - 2s 5ms/step - loss: 0.0463 - accuracy: 0.9851 - val_loss: 2.3297 - val_accuracy: 0.7333\n",
            "Epoch 44/50\n",
            "400/400 [==============================] - 2s 5ms/step - loss: 0.0380 - accuracy: 0.9872 - val_loss: 2.4211 - val_accuracy: 0.7313\n",
            "Epoch 45/50\n",
            "400/400 [==============================] - 2s 5ms/step - loss: 0.0355 - accuracy: 0.9885 - val_loss: 2.4073 - val_accuracy: 0.7171\n",
            "Epoch 46/50\n",
            "400/400 [==============================] - 2s 5ms/step - loss: 0.0301 - accuracy: 0.9906 - val_loss: 2.3735 - val_accuracy: 0.7313\n",
            "Epoch 47/50\n",
            "400/400 [==============================] - 2s 5ms/step - loss: 0.0465 - accuracy: 0.9859 - val_loss: 2.3344 - val_accuracy: 0.7225\n",
            "Epoch 48/50\n",
            "400/400 [==============================] - 2s 5ms/step - loss: 0.0389 - accuracy: 0.9874 - val_loss: 2.4749 - val_accuracy: 0.7263\n",
            "Epoch 49/50\n",
            "400/400 [==============================] - 2s 5ms/step - loss: 0.0501 - accuracy: 0.9837 - val_loss: 2.4661 - val_accuracy: 0.7207\n",
            "Epoch 50/50\n",
            "400/400 [==============================] - 2s 5ms/step - loss: 0.0336 - accuracy: 0.9891 - val_loss: 2.5753 - val_accuracy: 0.7239\n"
          ],
          "name": "stdout"
        }
      ]
    },
    {
      "cell_type": "markdown",
      "metadata": {
        "id": "-NrXxz4pLhdG"
      },
      "source": [
        "### Question 3.2)\n",
        "Create training and validation loss and accuracy plots as above."
      ]
    },
    {
      "cell_type": "code",
      "metadata": {
        "id": "ri2mViLfLhdG",
        "colab": {
          "base_uri": "https://localhost:8080/",
          "height": 617
        },
        "outputId": "48e01f74-8abd-48d6-c8e8-1eaaf140f357"
      },
      "source": [
        "### YOUR CODE HERE ###\n",
        "plt.plot(history.history['loss'])\n",
        "plt.plot(history.history['val_loss'])\n",
        "plt.title('Model Loss')\n",
        "plt.ylabel('Loss')\n",
        "plt.xlabel('Epochs')\n",
        "plt.legend(['train', 'test'])\n",
        "plt.show()\n",
        "\n",
        "plt.plot(history.history['accuracy'])\n",
        "plt.plot(history.history['val_accuracy'])\n",
        "plt.title('Model Accuracy')\n",
        "plt.ylabel('Accuracy')\n",
        "plt.xlabel('Epochs')\n",
        "plt.legend(['train', 'test'])\n",
        "plt.show()"
      ],
      "execution_count": null,
      "outputs": [
        {
          "output_type": "display_data",
          "data": {
            "image/png": "[encoded data removed]",
            "text/plain": [
              "<Figure size 432x288 with 1 Axes>"
            ]
          },
          "metadata": {
            "tags": []
          }
        },
        {
          "output_type": "display_data",
          "data": {
            "image/png": "[encoded data removed]",
            "text/plain": [
              "<Figure size 432x288 with 1 Axes>"
            ]
          },
          "metadata": {
            "tags": []
          }
        }
      ]
    }
  ]
}